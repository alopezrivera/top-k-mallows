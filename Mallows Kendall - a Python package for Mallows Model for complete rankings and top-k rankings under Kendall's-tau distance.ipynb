{
  "cells": [
    {
      "cell_type": "markdown",
      "source": [
        "# Mallows Kendall\n",
        "### A python package to for the Mallows model with top-$k$ and complete rankings \n",
        "\n",
        "We present methods for working with the Mallows Model (MM), the best-known distribution for permutations. Also, we consider operations for partial rankings (top-$k$ rankings) as well as complete rankings. Cite as \n",
        "\n",
        "Fabien Collas, Ekhine Irurozki (2020). Concentric mixtures of Mallows models for top-k rankings: sampling and identifiability. In ArXiv."
      ],
      "metadata": {
        "nteract": {
          "transient": {
            "deleting": false
          }
        }
      }
    },
    {
      "cell_type": "code",
      "source": [
        "import os \n",
        "import mallows_kendall as mk\n",
        "import numpy as np \n",
        "import scipy as sp\n",
        "import seaborn as sns\n",
        "import matplotlib.pyplot as plt\n",
        "import pandas as pd \n"
      ],
      "outputs": [],
      "execution_count": 1,
      "metadata": {
        "execution": {
          "iopub.status.busy": "2020-11-05T10:09:25.435Z",
          "iopub.execute_input": "2020-11-05T10:09:25.461Z",
          "iopub.status.idle": "2020-11-05T10:09:26.366Z",
          "shell.execute_reply": "2020-11-05T10:09:26.384Z"
        }
      }
    },
    {
      "cell_type": "markdown",
      "source": [
        "# Preliminaries"
      ],
      "metadata": {}
    },
    {
      "cell_type": "markdown",
      "source": [
        "## Permutations"
      ],
      "metadata": {}
    },
    {
      "cell_type": "markdown",
      "source": [
        "**Generation** The most basic function consists in generating a permutation $\\sigma$ from $S_n$, the set of all permutations. The permutations are coded as vectors of the first $n$ natural numbers (beginning with 0 here in Python) where each item appears once and once only.   \n",
        "Complete permutations can be defined here as `ndarrays` with dtype `int` or `list` of integers as well.  \n",
        "They can be defined by hand as follows:"
      ],
      "metadata": {}
    },
    {
      "cell_type": "code",
      "source": [
        "perm1 = np.array([3,1,2,0,4])\n",
        "perm1"
      ],
      "outputs": [
        {
          "output_type": "execute_result",
          "execution_count": 2,
          "data": {
            "text/plain": "array([3, 1, 2, 0, 4])"
          },
          "metadata": {}
        }
      ],
      "execution_count": 2,
      "metadata": {
        "execution": {
          "iopub.status.busy": "2020-11-05T09:33:56.603Z",
          "iopub.execute_input": "2020-11-05T09:33:56.614Z",
          "iopub.status.idle": "2020-11-05T09:33:56.640Z",
          "shell.execute_reply": "2020-11-05T09:33:58.302Z"
        }
      }
    },
    {
      "cell_type": "markdown",
      "source": [
        "They can also be randomly generated as follows ($n$ being the length of the permutation): "
      ],
      "metadata": {}
    },
    {
      "cell_type": "code",
      "source": [
        "n=5\n",
        "perm2 = np.random.permutation(n)\n",
        "perm2"
      ],
      "outputs": [
        {
          "output_type": "execute_result",
          "execution_count": 3,
          "data": {
            "text/plain": "array([2, 0, 1, 3, 4])"
          },
          "metadata": {}
        }
      ],
      "execution_count": 3,
      "metadata": {
        "execution": {
          "iopub.status.busy": "2020-11-05T09:33:56.658Z",
          "iopub.execute_input": "2020-11-05T09:33:56.668Z",
          "iopub.status.idle": "2020-11-05T09:33:56.690Z",
          "shell.execute_reply": "2020-11-05T09:33:58.309Z"
        }
      }
    },
    {
      "cell_type": "markdown",
      "source": [
        "**Operations** Two permutations can be composed and the result is a permutation. This operation is not commutative in general."
      ],
      "metadata": {}
    },
    {
      "cell_type": "code",
      "source": [
        "mk.compose(perm1, perm2)"
      ],
      "outputs": [
        {
          "output_type": "execute_result",
          "execution_count": 4,
          "data": {
            "text/plain": "array([2, 3, 1, 0, 4])"
          },
          "metadata": {}
        }
      ],
      "execution_count": 4,
      "metadata": {
        "execution": {
          "iopub.status.busy": "2020-11-05T09:33:56.707Z",
          "iopub.execute_input": "2020-11-05T09:33:56.718Z",
          "iopub.status.idle": "2020-11-05T09:33:56.739Z",
          "shell.execute_reply": "2020-11-05T09:33:58.317Z"
        }
      }
    },
    {
      "cell_type": "markdown",
      "source": [
        "The inverse of a permutation can also be obtained with:"
      ],
      "metadata": {}
    },
    {
      "cell_type": "code",
      "source": [
        "mk.inverse(perm1)"
      ],
      "outputs": [
        {
          "output_type": "execute_result",
          "execution_count": 5,
          "data": {
            "text/plain": "array([3, 1, 2, 0, 4])"
          },
          "metadata": {}
        }
      ],
      "execution_count": 5,
      "metadata": {
        "execution": {
          "iopub.status.busy": "2020-11-05T09:33:56.754Z",
          "iopub.execute_input": "2020-11-05T09:33:56.765Z",
          "iopub.status.idle": "2020-11-05T09:33:56.788Z",
          "shell.execute_reply": "2020-11-05T09:33:58.323Z"
        }
      }
    },
    {
      "cell_type": "markdown",
      "source": [
        "## Distances"
      ],
      "metadata": {}
    },
    {
      "cell_type": "markdown",
      "source": [
        "The Kendall's-$\\tau$ distance $d(\\sigma, \\pi)$ counts the number of pairwise disagreements beetween $\\sigma$ and $\\pi$, i.e., the number of pairs of positions in which the items are in a particular order in $\\sigma$, and the reverse order in $\\pi$. The Kendall's-$\\tau$ distance between two permutations can be computed as follows: "
      ],
      "metadata": {}
    },
    {
      "cell_type": "code",
      "source": [
        "mk.kendall_tau(perm1, perm2)"
      ],
      "outputs": [
        {
          "output_type": "execute_result",
          "execution_count": 6,
          "data": {
            "text/plain": "3"
          },
          "metadata": {}
        }
      ],
      "execution_count": 6,
      "metadata": {
        "execution": {
          "iopub.status.busy": "2020-11-05T09:33:56.804Z",
          "iopub.execute_input": "2020-11-05T09:33:56.816Z",
          "iopub.status.idle": "2020-11-05T09:33:56.841Z",
          "shell.execute_reply": "2020-11-05T09:33:58.330Z"
        }
      }
    },
    {
      "cell_type": "markdown",
      "source": [
        "If only one permutation is given in input, it will be assumed that the second permutation is the identity permutation, $e = (1, 2, \\dotsc, n)$."
      ],
      "metadata": {}
    },
    {
      "cell_type": "code",
      "source": [
        "mk.kendall_tau(perm1)"
      ],
      "outputs": [
        {
          "output_type": "execute_result",
          "execution_count": 7,
          "data": {
            "text/plain": "5"
          },
          "metadata": {}
        }
      ],
      "execution_count": 7,
      "metadata": {
        "execution": {
          "iopub.status.busy": "2020-11-05T09:33:56.858Z",
          "iopub.execute_input": "2020-11-05T09:33:56.870Z",
          "iopub.status.idle": "2020-11-05T09:33:56.894Z",
          "shell.execute_reply": "2020-11-05T09:33:58.337Z"
        }
      }
    },
    {
      "cell_type": "markdown",
      "source": [
        "The maximum value of the kendall's-$\\tau$ distance between two permutation of length $n$ is $\\frac{n(n-1)}{2}$. It is possible to get this value using the following function: "
      ],
      "metadata": {}
    },
    {
      "cell_type": "code",
      "source": [
        "mk.max_dist(n)"
      ],
      "outputs": [
        {
          "output_type": "execute_result",
          "execution_count": 8,
          "data": {
            "text/plain": "10"
          },
          "metadata": {}
        }
      ],
      "execution_count": 8,
      "metadata": {
        "execution": {
          "iopub.status.busy": "2020-11-05T09:33:56.913Z",
          "iopub.execute_input": "2020-11-05T09:33:56.924Z",
          "iopub.status.idle": "2020-11-05T09:33:56.947Z",
          "shell.execute_reply": "2020-11-05T09:33:58.342Z"
        }
      }
    },
    {
      "cell_type": "markdown",
      "source": [
        "For each $\\sigma \\in S_n$ there exists a unique vector, called inversion vector of $\\sigma$ with regards to the Kendall's-$\\tau$ distance, denoted $V(\\sigma) = (V_1(\\sigma), \\dotsc, V_{n-1}(\\sigma))$ and such that $d(\\sigma) = \\sum_{j=1}^{n-1}V_j(\\sigma)$.   \n",
        "The $j^{th}$ element $V_j(\\sigma)$ is given by: $V_j(\\sigma) = \\sum\\limits_{i=j+1}^{n}\\mathbb{1}_{\\sigma(i) < \\sigma(j)}$, $\\forall j \\in \\{1, \\dotsc, n-1\\}$. It follows that $0 \\le V_j(\\sigma) \\le n-j$. \n",
        "\n",
        "Finally there is a bijection between each $\\sigma \\in S_n$ and each possible $V(\\sigma)$ inversion vector. In the package the conversion from one form to another is done using the two following functions:  \n",
        "\n",
        "- From $\\sigma$ to $V(\\sigma)$ (here $V$ is of the same length $n$ as the permutation , thus the final $n^{th}$ element of $V$ will always equal $0$) :"
      ],
      "metadata": {}
    },
    {
      "cell_type": "code",
      "source": [
        "V_perm1 = mk.ranking_to_v(perm1)\n",
        "V_perm1"
      ],
      "outputs": [
        {
          "output_type": "execute_result",
          "execution_count": 9,
          "data": {
            "text/plain": "array([3, 1, 1, 0, 0])"
          },
          "metadata": {}
        }
      ],
      "execution_count": 9,
      "metadata": {
        "execution": {
          "iopub.status.busy": "2020-11-05T09:33:56.964Z",
          "iopub.execute_input": "2020-11-05T09:33:56.976Z",
          "iopub.status.idle": "2020-11-05T09:33:56.998Z",
          "shell.execute_reply": "2020-11-05T09:33:58.348Z"
        }
      }
    },
    {
      "cell_type": "markdown",
      "source": [
        "- From $V(\\sigma)$ to $\\sigma$ :"
      ],
      "metadata": {}
    },
    {
      "cell_type": "code",
      "source": [
        "mk.v_to_ranking(V_perm1, n)"
      ],
      "outputs": [
        {
          "output_type": "execute_result",
          "execution_count": 10,
          "data": {
            "text/plain": "array([3., 1., 2., 0., 4.])"
          },
          "metadata": {}
        }
      ],
      "execution_count": 10,
      "metadata": {
        "execution": {
          "iopub.status.busy": "2020-11-05T09:33:57.014Z",
          "iopub.execute_input": "2020-11-05T09:33:57.026Z",
          "iopub.status.idle": "2020-11-05T09:33:57.051Z",
          "shell.execute_reply": "2020-11-05T09:33:58.355Z"
        }
      }
    },
    {
      "cell_type": "markdown",
      "source": [
        "This package also allows to sample a permutation with a given number of inversions, i.e., at a given distance, where all the posible permutations have the same probability of being generated"
      ],
      "metadata": {
        "nteract": {
          "transient": {
            "deleting": false
          }
        }
      }
    },
    {
      "cell_type": "code",
      "source": [
        "mk.random_perm_at_dist(n, 2, mk.num_perms_at_dist(n))\n"
      ],
      "outputs": [
        {
          "output_type": "execute_result",
          "execution_count": 11,
          "data": {
            "text/plain": "array([0., 1., 3., 4., 2.])"
          },
          "metadata": {}
        }
      ],
      "execution_count": 11,
      "metadata": {
        "collapsed": true,
        "jupyter": {
          "source_hidden": false,
          "outputs_hidden": false
        },
        "nteract": {
          "transient": {
            "deleting": false
          }
        },
        "execution": {
          "iopub.status.busy": "2020-11-05T09:33:57.068Z",
          "iopub.execute_input": "2020-11-05T09:33:57.078Z",
          "iopub.status.idle": "2020-11-05T09:33:57.102Z",
          "shell.execute_reply": "2020-11-05T09:33:58.361Z"
        }
      }
    },
    {
      "cell_type": "markdown",
      "source": [
        "*note*: We point out that this notation is taken from Meilǎ, M., Phadnis, K., Patterson, A., & Bilmes, J. (2007). Consensus ranking under the exponential model. In *Proceedings of the 23rd Conference on Uncertainty in Artificial Intelligence, UAI 2007* (pp. 285–294). Note thst the definition of the inversion vector difers from the one in the original paper of MM Fligner, M. A., & Verducci, J. S. (1986). Distance based ranking models. Journal of the Royal Statistical Society, 48(3), 359–369.\n",
        "This different versions imply different expressions for the MM which will affect the capability of the MM to be used for partial permutations.\n",
        "\n",
        "# Mallows Model (MM) for complete permutations"
      ],
      "metadata": {}
    },
    {
      "cell_type": "markdown",
      "source": [
        "The Mallows Model (MM) is an exponential family of probability models for permutation data. We consider $\\sigma$ to be a ranking. Formally, the MM using the Kendall's-$\\tau$ distance is expressed as follows: \n",
        "$$p(\\sigma)=\\dfrac{\\exp(-\\theta d(\\sigma \\sigma_0^{-1}))}{\\psi(\\theta)}$$ \n",
        "where $\\psi(\\theta) =  \\prod_{\\substack{j=1}}^{n-1} \\frac{1-\\exp(-\\theta(n-j+1))}{1 - \\exp(-\\theta)}$.  \n",
        "$\\sigma_0$ represents the central permutation and is the mode of the distribution iff the dispersion parameter $\\theta > 0$. In this case, the greater the distance of a permutation to $\\sigma_0$ the lower is its probability (it decreases exponentially). The dispersion parameter $\\theta$  controls the speed of this fall.\n",
        "\n"
      ],
      "metadata": {}
    },
    {
      "cell_type": "code",
      "source": [
        "def prob_MM(sigma, sigma_0, theta): \n",
        "    \n",
        "    sigma_0_inv = mk.inverse(sigma_0)\n",
        "    \n",
        "    psi = np.prod(np.array([(1 - np.exp(( - n + j ) * theta))/(1 - np.exp(-theta)) for j in range(n-1)]))\n",
        "    \n",
        "    dist = mk.kendall_tau( mk.compose(sigma, sigma_0_inv) )\n",
        "    \n",
        "    return np.exp( - theta *  dist ) / psi\n",
        "    \n",
        "n = 5    \n",
        "sigma = np.array([3,1,2,0,4])\n",
        "sigma_0 = np.array(range(5))\n",
        "theta = 0.1\n",
        "\n",
        "print(prob_MM(sigma, sigma_0, theta))"
      ],
      "outputs": [
        {
          "output_type": "stream",
          "name": "stdout",
          "text": [
            "0.008161793281714687\n"
          ]
        }
      ],
      "execution_count": 12,
      "metadata": {
        "execution": {
          "iopub.status.busy": "2020-11-05T09:33:57.119Z",
          "iopub.execute_input": "2020-11-05T09:33:57.130Z",
          "iopub.status.idle": "2020-11-05T09:33:57.153Z",
          "shell.execute_reply": "2020-11-05T09:33:58.369Z"
        }
      }
    },
    {
      "cell_type": "markdown",
      "source": [
        "**Sampling** This package includes a sampler based on the factorization of the Kendall's-$\\tau$ distance. In the later sections we will also present how this can be adapted to top-$k$ rankings. This differs to the classical sampling, usually done using the Repeated Insertion Model (RIM) and which can not be extended to top-$k$ rankings.\n"
      ],
      "metadata": {}
    },
    {
      "cell_type": "code",
      "source": [
        "mk.sampling_mm(m=4,n=5,theta=1.5)"
      ],
      "outputs": [
        {
          "output_type": "execute_result",
          "execution_count": 12,
          "data": {
            "text/plain": "array([[0., 2., 3., 4., 1.],\n       [0., 1., 2., 3., 4.],\n       [0., 1., 2., 3., 4.],\n       [2., 0., 1., 3., 4.]])"
          },
          "metadata": {}
        }
      ],
      "execution_count": 12,
      "metadata": {
        "collapsed": true,
        "jupyter": {
          "source_hidden": false,
          "outputs_hidden": false
        },
        "nteract": {
          "transient": {
            "deleting": false
          }
        },
        "execution": {
          "iopub.status.busy": "2020-11-05T10:45:00.789Z",
          "iopub.execute_input": "2020-11-05T10:45:00.801Z",
          "iopub.status.idle": "2020-11-05T10:45:00.829Z",
          "shell.execute_reply": "2020-11-05T10:45:00.843Z"
        }
      }
    },
    {
      "cell_type": "markdown",
      "source": [
        "Note that in the package the sampling functions generates the samples considering $\\sigma_0 = e$, identity permutation by default. But any other central permutation can be given as a parameter.  \n",
        "In practice, we can draw a sample from a MM as follows:"
      ],
      "metadata": {}
    },
    {
      "cell_type": "code",
      "source": [
        "mk.sampling_mm(m=4, n=5, theta=1.5, s0=np.array([4,3,2,1,0]))"
      ],
      "outputs": [
        {
          "output_type": "execute_result",
          "execution_count": 13,
          "data": {
            "text/plain": "array([[4., 3., 2., 1., 0.],\n       [4., 2., 1., 3., 0.],\n       [4., 2., 1., 3., 0.],\n       [4., 3., 2., 1., 0.]])"
          },
          "metadata": {}
        }
      ],
      "execution_count": 13,
      "metadata": {
        "execution": {
          "iopub.status.busy": "2020-11-05T10:45:02.376Z",
          "iopub.execute_input": "2020-11-05T10:45:02.387Z",
          "shell.execute_reply": "2020-11-05T10:45:02.421Z",
          "iopub.status.idle": "2020-11-05T10:45:02.411Z"
        }
      }
    },
    {
      "cell_type": "markdown",
      "source": [
        "Usually, the MM is given with the following equivalent expression\n",
        "$$p(\\sigma) \\propto \\phi^{d(\\sigma,\\sigma_0)},$$\n",
        "where $\\phi^{d(\\sigma,\\sigma_0)}=\\exp(-\\theta d(\\sigma,\\sigma_0))$ and \n",
        "for which the dispersion parameter is denoted as $\\phi\\in [0,1]$. We can relate the two dispersion parameters, $\\theta$ and $\\phi$, of the two expressions as  $\\phi=-\\log(\\theta)$. In this package, we can use also this second formulation by specifying parameter `phi` instead of `theta`. This functionallity holds for most funstions. The sampling, for example, is done then as follows:"
      ],
      "metadata": {
        "nteract": {
          "transient": {
            "deleting": false
          }
        }
      }
    },
    {
      "cell_type": "code",
      "source": [
        "mk.sampling_mm(m=4,n=5,phi=.5)"
      ],
      "outputs": [
        {
          "output_type": "execute_result",
          "execution_count": 8,
          "data": {
            "text/plain": "array([[1., 4., 3., 0., 2.],\n       [0., 2., 1., 4., 3.],\n       [0., 1., 2., 3., 4.],\n       [0., 1., 4., 2., 3.]])"
          },
          "metadata": {}
        }
      ],
      "execution_count": 8,
      "metadata": {
        "collapsed": true,
        "jupyter": {
          "source_hidden": false,
          "outputs_hidden": false
        },
        "nteract": {
          "transient": {
            "deleting": false
          }
        },
        "execution": {
          "iopub.status.busy": "2020-11-05T10:41:13.414Z",
          "iopub.execute_input": "2020-11-05T10:41:13.425Z",
          "iopub.status.idle": "2020-11-05T10:41:13.450Z",
          "shell.execute_reply": "2020-11-05T10:41:13.462Z"
        }
      }
    },
    {
      "cell_type": "markdown",
      "source": [
        "and the  trasformation between the two is as follows"
      ],
      "metadata": {
        "nteract": {
          "transient": {
            "deleting": false
          }
        }
      }
    },
    {
      "cell_type": "code",
      "source": [
        "mk.theta_to_phi(0.7), mk.phi_to_theta(0.7)"
      ],
      "outputs": [
        {
          "output_type": "execute_result",
          "execution_count": 11,
          "data": {
            "text/plain": "(0.4965853037914095, 0.35667494393873245)"
          },
          "metadata": {}
        }
      ],
      "execution_count": 11,
      "metadata": {
        "collapsed": true,
        "jupyter": {
          "source_hidden": false,
          "outputs_hidden": false
        },
        "nteract": {
          "transient": {
            "deleting": false
          }
        },
        "execution": {
          "iopub.status.busy": "2020-11-05T10:42:52.807Z",
          "iopub.execute_input": "2020-11-05T10:42:52.821Z",
          "iopub.status.idle": "2020-11-05T10:42:52.846Z",
          "shell.execute_reply": "2020-11-05T10:42:52.858Z"
        }
      }
    },
    {
      "cell_type": "markdown",
      "source": [
        "**Expected distance** The expected value of Kendall's-$\\tau$ distance under the MM is given by: \n",
        "$$\\mathbb{E}[D] = \\frac{n \\cdot \\exp(-\\theta)}{1 - \\exp(-\\theta)} - \\sum_{j=1}^n\\frac{j \\cdot \\exp(-j \\theta)}{1 - \\exp(-j \\theta)}$$"
      ],
      "metadata": {}
    },
    {
      "cell_type": "code",
      "source": [
        "theta_mm = 0.7\n",
        "sample_mm = mk.sampling_mm(m=4,n=5,theta=1.5)\n",
        "expected_dist = mk.expected_dist_mm(n, theta_mm)\n",
        "expected_dist"
      ],
      "outputs": [
        {
          "output_type": "execute_result",
          "execution_count": 42,
          "data": {
            "text/plain": "2.4578024409695693"
          },
          "metadata": {}
        }
      ],
      "execution_count": 42,
      "metadata": {
        "execution": {
          "iopub.status.busy": "2020-11-05T09:36:20.016Z",
          "iopub.execute_input": "2020-11-05T09:36:20.029Z",
          "iopub.status.idle": "2020-11-05T09:36:20.057Z",
          "shell.execute_reply": "2020-11-05T09:36:20.072Z"
        }
      }
    },
    {
      "cell_type": "markdown",
      "source": [
        "**Variance** The variance of Kendall's-$\\tau$ distance under the MM can be expressed as follows: \n",
        "$$\\mathbb{V}[D] = \\dfrac{ n \\cdot \\exp(-\\theta) }{ (1 - \\exp(-\\theta))^2 } - \\sum_{j=1}^n \\dfrac{ j^2\\exp(-j \\theta) }{ (1 - \\exp(-j \\theta))^2 }$$"
      ],
      "metadata": {}
    },
    {
      "cell_type": "code",
      "source": [
        "variance_dist = mk.variance_dist_mm(n, theta_mm)\n",
        "variance_dist"
      ],
      "outputs": [
        {
          "output_type": "execute_result",
          "execution_count": 43,
          "data": {
            "text/plain": "2.763301117320907"
          },
          "metadata": {}
        }
      ],
      "execution_count": 43,
      "metadata": {
        "execution": {
          "iopub.status.busy": "2020-11-05T09:36:21.188Z",
          "iopub.execute_input": "2020-11-05T09:36:21.204Z",
          "iopub.status.idle": "2020-11-05T09:36:21.229Z",
          "shell.execute_reply": "2020-11-05T09:36:21.242Z"
        }
      }
    },
    {
      "cell_type": "markdown",
      "source": [
        "**Learning** Then Borda algorithm allows to approximate the central permutation:  "
      ],
      "metadata": {}
    },
    {
      "cell_type": "code",
      "source": [
        "mk.borda(sample_mm)"
      ],
      "outputs": [
        {
          "output_type": "execute_result",
          "execution_count": 44,
          "data": {
            "text/plain": "array([0, 1, 2, 3, 4])"
          },
          "metadata": {}
        }
      ],
      "execution_count": 44,
      "metadata": {
        "execution": {
          "iopub.status.busy": "2020-11-05T09:36:22.118Z",
          "iopub.execute_input": "2020-11-05T09:36:22.130Z",
          "iopub.status.idle": "2020-11-05T09:36:22.154Z",
          "shell.execute_reply": "2020-11-05T09:36:22.165Z"
        }
      }
    },
    {
      "cell_type": "markdown",
      "source": [
        "The function `fit_mm` returns an approximation to the MLE of the parameters $\\sigma_0$ and $\\theta$. The consensus $\\sigma_0$ is approximated with the well known Borda count algorithm. "
      ],
      "metadata": {}
    },
    {
      "cell_type": "code",
      "source": [
        "sigma_borda, phi_mm_mle = mk.fit_mm(sample_mm)\n",
        "print(sigma_borda)\n",
        "print(phi_mm_mle)"
      ],
      "outputs": [
        {
          "output_type": "stream",
          "name": "stdout",
          "text": [
            "[0 1 2 3 4]\n",
            "0.11776019465584917\n"
          ]
        }
      ],
      "execution_count": 45,
      "metadata": {
        "execution": {
          "iopub.status.busy": "2020-11-05T09:36:23.756Z",
          "iopub.execute_input": "2020-11-05T09:36:23.768Z",
          "iopub.status.idle": "2020-11-05T09:36:23.860Z",
          "shell.execute_reply": "2020-11-05T09:36:23.873Z"
        }
      }
    },
    {
      "cell_type": "markdown",
      "source": [
        "MM is also often defined as: $$p(\\sigma)=\\dfrac{\\phi^{d(\\sigma \\sigma_0^{-1})}}{\\prod_{\\substack{j=1}}^{n-1} \\frac{1-\\phi^{(n-j+1)}}{1 - \\phi}}$$ which implies that $\\phi = \\exp(-\\theta)$. The next function allows to obtain $\\theta$ given $\\phi$.\n",
        "\n",
        "*Remark:* $\\phi$ is in $[0,1]$ here."
      ],
      "metadata": {}
    },
    {
      "cell_type": "code",
      "source": [
        "theta_mm_mle = mk.phi_to_theta(phi_mm_mle)\n",
        "theta_mm_mle"
      ],
      "outputs": [
        {
          "output_type": "execute_result",
          "execution_count": 46,
          "data": {
            "text/plain": "2.1391049710150876"
          },
          "metadata": {}
        }
      ],
      "execution_count": 46,
      "metadata": {
        "execution": {
          "iopub.status.busy": "2020-11-05T09:36:24.916Z",
          "iopub.execute_input": "2020-11-05T09:36:24.927Z",
          "iopub.status.idle": "2020-11-05T09:36:24.952Z",
          "shell.execute_reply": "2020-11-05T09:36:24.965Z"
        }
      }
    },
    {
      "cell_type": "markdown",
      "source": [
        "# Mallows Model for Top-$k$ rankings"
      ],
      "metadata": {}
    },
    {
      "cell_type": "markdown",
      "source": [
        "**Definition** A top-$k$ ranking ($k \\le n$) $\\sigma$ is a ranking $\\sigma = (\\sigma(1), \\sigma(2), \\dotsc, \\sigma(n))$ for which only the first $k$ ranks  are known. Hence ranks of items $i$ such that $\\sigma(i) \\le k$.\n",
        "\n",
        "An example of top-5 ranking (with $n=10$) with the package would be:"
      ],
      "metadata": {}
    },
    {
      "cell_type": "code",
      "source": [
        "alpha = np.array([ 4.,  0., np.NaN, 1., np.NaN, 3., np.NaN, 2., np.NaN, np.NaN])\n",
        "alpha"
      ],
      "outputs": [
        {
          "output_type": "execute_result",
          "execution_count": 47,
          "data": {
            "text/plain": "array([ 4.,  0., nan,  1., nan,  3., nan,  2., nan, nan])"
          },
          "metadata": {}
        }
      ],
      "execution_count": 47,
      "metadata": {
        "execution": {
          "iopub.status.busy": "2020-11-05T09:36:26.269Z",
          "iopub.execute_input": "2020-11-05T09:36:26.282Z",
          "iopub.status.idle": "2020-11-05T09:36:26.306Z",
          "shell.execute_reply": "2020-11-05T09:36:26.317Z"
        }
      }
    },
    {
      "cell_type": "markdown",
      "source": [
        "**Sampling** In this part the sampling of the top-$k$ rankings is discussed.  \n",
        "Perhaps the most natural idea to generate top-$k$ rankings would be to generate the full rankings, using the Repeated Insertion Model for example, and to cut these obtained permutations after position $k$. This is possible, yet it seems computationally non-optimal with a complexity of $O(n^2)$.    \n",
        "\n",
        "Here we adapt the methods of previous sections to top-$k$ rankings. This method is based on sampling partially the inversion vectors. "
      ],
      "metadata": {}
    },
    {
      "cell_type": "markdown",
      "source": [
        "In practice in the package, a top-$k$ ranking can be sampled as follows: "
      ],
      "metadata": {}
    },
    {
      "cell_type": "code",
      "source": [
        "m = 15\n",
        "n = 10 \n",
        "k = 5\n",
        "phi = 0.9 \n",
        "sigma_0 = np.array(range(10))\n",
        "sigma = np.random.permutation(n)\n",
        "sample_top_k = mk.sampling_top_k_rankings(m, n, k, phi = phi, s0=sigma_0)\n",
        "sample_top_k"
      ],
      "outputs": [
        {
          "output_type": "execute_result",
          "execution_count": 48,
          "data": {
            "text/plain": "array([[ 3., nan, nan,  1.,  0.,  4., nan, nan, nan,  2.],\n       [ 3.,  2., nan, nan,  1., nan, nan, nan,  0.,  4.],\n       [ 1.,  4.,  2., nan, nan, nan,  3., nan,  0., nan],\n       [ 0.,  1., nan,  4., nan, nan, nan,  3.,  2., nan],\n       [nan, nan, nan,  0.,  3.,  1., nan, nan,  2.,  4.],\n       [ 2., nan,  3.,  4., nan, nan, nan, nan,  0.,  1.],\n       [nan, nan,  1.,  3., nan,  2.,  4.,  0., nan, nan],\n       [ 1.,  2., nan, nan,  3., nan,  0., nan, nan,  4.],\n       [ 3., nan, nan,  1., nan,  2.,  0.,  4., nan, nan],\n       [ 0., nan,  3.,  1., nan,  2., nan, nan,  4., nan],\n       [nan, nan,  2.,  3., nan,  4., nan, nan,  0.,  1.],\n       [ 4.,  0., nan, nan,  3.,  2., nan, nan, nan,  1.],\n       [nan,  2.,  1.,  3.,  4., nan, nan, nan, nan,  0.],\n       [ 2.,  0., nan, nan,  3.,  1., nan,  4., nan, nan],\n       [ 0.,  3., nan,  2., nan,  1., nan,  4., nan, nan]])"
          },
          "metadata": {}
        }
      ],
      "execution_count": 48,
      "metadata": {
        "execution": {
          "iopub.status.busy": "2020-11-05T09:36:28.268Z",
          "iopub.execute_input": "2020-11-05T09:36:28.280Z",
          "iopub.status.idle": "2020-11-05T09:36:28.308Z",
          "shell.execute_reply": "2020-11-05T09:36:28.319Z"
        }
      }
    },
    {
      "cell_type": "markdown",
      "source": [
        "**Distance** In order to compare top-$k$ rankings, it is possible to use an extension of the classical Kendall's-$\\tau$ denoted as $p$-parametrized Kendall's-$\\tau$ distance (Fagin et al., 2003). \n",
        "\n",
        "In practice we can use it, chosing the $p$ parameter in $[0,1]$, as follows: "
      ],
      "metadata": {}
    },
    {
      "cell_type": "code",
      "source": [
        "mk.p_kendall_tau(sample_top_k[0], sample_top_k[1], k=5, p=0)"
      ],
      "outputs": [
        {
          "output_type": "execute_result",
          "execution_count": 49,
          "data": {
            "text/plain": "12"
          },
          "metadata": {}
        }
      ],
      "execution_count": 49,
      "metadata": {
        "execution": {
          "iopub.status.busy": "2020-11-05T09:36:30.869Z",
          "iopub.execute_input": "2020-11-05T09:36:30.881Z",
          "iopub.status.idle": "2020-11-05T09:36:30.906Z",
          "shell.execute_reply": "2020-11-05T09:36:30.918Z"
        }
      }
    },
    {
      "cell_type": "code",
      "source": [
        "mk.p_kendall_tau(sample_top_k[0], sample_top_k[1], k=5, p=1)"
      ],
      "outputs": [
        {
          "output_type": "execute_result",
          "execution_count": 50,
          "data": {
            "text/plain": "14"
          },
          "metadata": {}
        }
      ],
      "execution_count": 50,
      "metadata": {
        "execution": {
          "iopub.status.busy": "2020-11-05T09:36:31.317Z",
          "iopub.execute_input": "2020-11-05T09:36:31.329Z",
          "iopub.status.idle": "2020-11-05T09:36:31.352Z",
          "shell.execute_reply": "2020-11-05T09:36:31.365Z"
        }
      }
    },
    {
      "cell_type": "markdown",
      "source": [
        "**Expected distance** The expected value of Kendall's-$\\tau$ distance under the MM is given by: \n",
        "$$\\mathbb{E}[D] = \\frac{k \\cdot \\exp(-\\theta)}{1 - \\exp(-\\theta)} - \\sum_{j=n-k+1}^n\\frac{j \\cdot \\exp(-j \\theta)}{1 - \\exp(-j \\theta)}$$"
      ],
      "metadata": {}
    },
    {
      "cell_type": "code",
      "source": [
        "expected_dist = mk.expected_dist_top_k(n,k,theta_mm)\n",
        "expected_dist"
      ],
      "outputs": [
        {
          "output_type": "execute_result",
          "execution_count": 51,
          "data": {
            "text/plain": "4.732931959531709"
          },
          "metadata": {}
        }
      ],
      "execution_count": 51,
      "metadata": {
        "execution": {
          "iopub.status.busy": "2020-11-05T09:36:32.671Z",
          "iopub.execute_input": "2020-11-05T09:36:32.683Z",
          "iopub.status.idle": "2020-11-05T09:36:32.709Z",
          "shell.execute_reply": "2020-11-05T09:36:32.721Z"
        }
      }
    },
    {
      "cell_type": "markdown",
      "source": [
        "**Variance** The variance of Kendall's-$\\tau$ distance under the MM can be expressed as follows: \n",
        "$$\\mathbb{V}[D] = \\dfrac{ k \\cdot \\exp(-\\theta) }{ (1 - \\exp(-\\theta))^2 } - \\sum_{j=n-k+1}^n \\dfrac{ j^2\\exp(-j \\theta) }{ (1 - \\exp(-j \\theta))^2 }$$"
      ],
      "metadata": {}
    },
    {
      "cell_type": "code",
      "source": [
        "variance_dist = mk.variance_dist_top_k(n,k,theta_mm)\n",
        "variance_dist"
      ],
      "outputs": [
        {
          "output_type": "execute_result",
          "execution_count": 52,
          "data": {
            "text/plain": "8.391580684957216"
          },
          "metadata": {}
        }
      ],
      "execution_count": 52,
      "metadata": {
        "execution": {
          "iopub.status.busy": "2020-11-05T09:36:34.124Z",
          "iopub.execute_input": "2020-11-05T09:36:34.136Z",
          "iopub.status.idle": "2020-11-05T09:36:34.166Z",
          "shell.execute_reply": "2020-11-05T09:36:34.178Z"
        }
      }
    },
    {
      "cell_type": "markdown",
      "source": [
        "# Generalized Mallows Model (GMM) for complete permutations"
      ],
      "metadata": {}
    },
    {
      "cell_type": "markdown",
      "source": [
        "The Generalized Mallows Model (GMM) is an extension of the Mallows Model, for which there are $n-1$ dispersion parameters $\\theta_j$ ($1 \\le j < n$), each affecting a particular position of the permutation.   \n",
        "Formally, the GMM under Kendall's-$\\tau$ distance is expressed as follows: \n",
        "\n",
        "$$p(\\sigma)=\\dfrac{\\exp(\\sum_{j=1}^{n-1}-\\theta_j V_j(\\sigma\\sigma_0^{-1}))}{\\psi(\\theta)}$$\n",
        "where $\\psi(\\theta) = \\prod_{j=1}^{n-1} \\psi_j(\\theta_j) = \\prod_{j=1}^{n-1} \\frac{1-\\exp(-\\theta_j(n-j+1))}{1 - \\exp(-\\theta_j)}$"
      ],
      "metadata": {}
    },
    {
      "cell_type": "code",
      "source": [
        "def prob_GMM(sigma, sigma_0, theta):\n",
        "    \n",
        "    n = len(sigma)\n",
        "        \n",
        "    sigma_0_inv = mk.inverse(sigma_0)\n",
        "    \n",
        "    V = mk.ranking_to_v(mk.compose(sigma, sigma_0_inv))\n",
        "    \n",
        "    psi = np.prod(np.array([(1 - np.exp(( - n + j ) * theta[j]))/(1 - np.exp(-theta[j])) for j in range(n-1)]))\n",
        "    \n",
        "    return np.exp( np.sum ( [ -theta[j] * V[j] for j in range(n-1) ] ) ) / psi \n",
        "    \n",
        "    \n",
        "sigma = np.array([3,1,2,0,4])\n",
        "sigma_0 = np.array(range(5))\n",
        "theta = [0.5,0.2,0.6,0.3]\n",
        "\n",
        "print(prob_GMM(sigma, sigma_0, theta))"
      ],
      "outputs": [
        {
          "output_type": "stream",
          "name": "stdout",
          "text": [
            "0.00439275005307042\n"
          ]
        }
      ],
      "execution_count": 53,
      "metadata": {
        "execution": {
          "iopub.status.busy": "2020-11-05T09:36:36.004Z",
          "iopub.execute_input": "2020-11-05T09:36:36.018Z",
          "iopub.status.idle": "2020-11-05T09:36:36.044Z",
          "shell.execute_reply": "2020-11-05T09:36:36.056Z"
        }
      }
    },
    {
      "cell_type": "markdown",
      "source": [
        "**Sampling** It is also possible to sample the Generalized Mallows Models (GMM), using the same process as for the MM only with a change in the probability of $V_j$ as follows:\n",
        "\n",
        "$$p(V_j(\\sigma\\sigma_0^{-1}) = r) = \\frac{\\exp(-\\theta r)}{\\psi_j(\\theta)}, \\; \\forall r \\in {0, \\dotsc, n-j}$$\n",
        "\n",
        "In the package it is quite similar as for the classical Mallows Models, only that the dispersion parameter will be given as a list. "
      ],
      "metadata": {}
    },
    {
      "cell_type": "code",
      "source": [
        "m = 4000\n",
        "n = 5\n",
        "theta_gmm = [0.5,0.2,0.6,0.3]\n",
        "identity = np.array(range(n))\n",
        "sample_gmm = np.array(mk.sampling_gmm(m,theta_gmm))"
      ],
      "outputs": [],
      "execution_count": 54,
      "metadata": {
        "execution": {
          "iopub.status.busy": "2020-11-05T09:36:37.035Z",
          "iopub.execute_input": "2020-11-05T09:36:37.202Z",
          "iopub.status.idle": "2020-11-05T09:36:37.220Z",
          "shell.execute_reply": "2020-11-05T09:36:37.305Z"
        }
      }
    },
    {
      "cell_type": "markdown",
      "source": [
        "The expected value of each term $V_j(\\sigma)$, where $\\sigma$ is a random Mallows permutation, is expressed as follows:\n",
        "$$ \\mathbb{E}[V_j] = \\frac{\\exp(-\\theta_j)}{1 - \\exp(-\\theta_j)} - \\frac{(n-j+1)\\exp(-\\theta_j(n-j+1))}{1 - \\exp(-\\theta_j(n-j+1))}, \\;\\forall j \\in \\{1, \\dotsc, n-1\\} $$\n",
        "And the values are computed as follows:"
      ],
      "metadata": {}
    },
    {
      "cell_type": "code",
      "source": [
        "expected_v_gmm = mk.expected_v(n, theta_gmm)\n",
        "print(expected_v_gmm)"
      ],
      "outputs": [
        {
          "output_type": "stream",
          "name": "stdout",
          "text": [
            "[1.09436663 1.25279068 0.62226834 0.42555748]\n"
          ]
        }
      ],
      "execution_count": 55,
      "metadata": {
        "execution": {
          "iopub.status.busy": "2020-11-05T09:36:37.692Z",
          "iopub.execute_input": "2020-11-05T09:36:37.703Z",
          "iopub.status.idle": "2020-11-05T09:36:37.729Z",
          "shell.execute_reply": "2020-11-05T09:36:37.742Z"
        }
      }
    },
    {
      "cell_type": "markdown",
      "source": [
        "The expected value of Kendall's-$\\tau$ distance under the GMM is then given by: \n",
        "$$\\mathbb{E}[D] = \\sum_{j=1}^{n-1} \\mathbb{E}[V_j]$$"
      ],
      "metadata": {}
    },
    {
      "cell_type": "code",
      "source": [
        "expected_dist_gmm = np.sum(expected_v_gmm)\n",
        "print(expected_dist_gmm)"
      ],
      "outputs": [
        {
          "output_type": "stream",
          "name": "stdout",
          "text": [
            "3.394983134634349\n"
          ]
        }
      ],
      "execution_count": 56,
      "metadata": {
        "execution": {
          "iopub.status.busy": "2020-11-05T09:36:38.705Z",
          "iopub.execute_input": "2020-11-05T09:36:38.719Z",
          "iopub.status.idle": "2020-11-05T09:36:38.743Z",
          "shell.execute_reply": "2020-11-05T09:36:38.755Z"
        }
      }
    },
    {
      "cell_type": "markdown",
      "source": [
        "The variance of each term $V_j(\\sigma)$ under the GMM can be expressed as follows: \n",
        "$$\\mathbb{V}[V_j] = \\dfrac{ \\exp(-\\theta_j) }{ (1 - \\exp(-\\theta_j))^2 } - \\sum_{j=1}^n \\frac{ (n-j+1)^2 \\exp(-(n-j+1) \\theta_j) }{ (1 - \\exp(-(n-j+1) \\theta_j))^2 }, \\;\\forall j \\in \\{1, \\dotsc, n-1\\} $$"
      ],
      "metadata": {}
    },
    {
      "cell_type": "code",
      "source": [
        "variance_v_gmm = mk.variance_v(n, theta_gmm)\n",
        "print(variance_v_gmm)"
      ],
      "outputs": [
        {
          "output_type": "stream",
          "name": "stdout",
          "text": [
            "[1.48213789 1.20855956 0.56066479 0.24445831]\n"
          ]
        }
      ],
      "execution_count": 57,
      "metadata": {
        "execution": {
          "iopub.status.busy": "2020-11-05T09:36:39.523Z",
          "iopub.execute_input": "2020-11-05T09:36:39.534Z",
          "iopub.status.idle": "2020-11-05T09:36:39.559Z",
          "shell.execute_reply": "2020-11-05T09:36:39.569Z"
        }
      }
    },
    {
      "cell_type": "markdown",
      "source": [
        "The expected value of Kendall's-$\\tau$ distance under the GMM is then given by: \n",
        "$$\\mathbb{V}[D] = \\sum_{j=1}^{n-1} \\mathbb{V}[V_j]$$"
      ],
      "metadata": {}
    },
    {
      "cell_type": "code",
      "source": [
        "variance_dist_gmm = np.sum(variance_v_gmm)\n",
        "print(variance_dist_gmm)"
      ],
      "outputs": [
        {
          "output_type": "stream",
          "name": "stdout",
          "text": [
            "3.495820543795291\n"
          ]
        }
      ],
      "execution_count": 58,
      "metadata": {
        "execution": {
          "iopub.status.busy": "2020-11-05T09:36:40.426Z",
          "iopub.execute_input": "2020-11-05T09:36:40.439Z",
          "iopub.status.idle": "2020-11-05T09:36:40.486Z",
          "shell.execute_reply": "2020-11-05T09:36:40.502Z"
        }
      }
    },
    {
      "cell_type": "markdown",
      "source": [
        "**Learning** An approximation to the MLE for $\\theta$ and $\\sigma_0$ given a sample of i.i.d Mallows permutations is as follows: "
      ],
      "metadata": {}
    },
    {
      "cell_type": "code",
      "source": [
        "sigma_borda, theta_gmm_mle = mk.fit_gmm(sample_gmm)\n",
        "print(sigma_borda)\n",
        "print(theta_gmm_mle)"
      ],
      "outputs": [
        {
          "output_type": "stream",
          "name": "stdout",
          "text": [
            "[0 2 1 3 4]\n",
            "[0.5068516942541228, 0.21164074473119746, 0.6040503591890671, 0.3443631773004668]\n"
          ]
        }
      ],
      "execution_count": 33,
      "metadata": {
        "execution": {
          "iopub.status.busy": "2020-11-05T09:33:58.207Z",
          "iopub.execute_input": "2020-11-05T09:33:58.219Z",
          "iopub.status.idle": "2020-11-05T09:33:58.241Z",
          "shell.execute_reply": "2020-11-05T09:33:58.492Z"
        }
      }
    }
  ],
  "metadata": {
    "kernelspec": {
      "display_name": "Python 3",
      "language": "python",
      "name": "python3"
    },
    "language_info": {
      "name": "python",
      "version": "3.8.2",
      "mimetype": "text/x-python",
      "codemirror_mode": {
        "name": "ipython",
        "version": 3
      },
      "pygments_lexer": "ipython3",
      "nbconvert_exporter": "python",
      "file_extension": ".py"
    },
    "nteract": {
      "version": "0.26.0"
    }
  },
  "nbformat": 4,
  "nbformat_minor": 4
}