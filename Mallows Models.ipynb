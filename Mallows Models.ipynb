{
 "cells": [
  {
   "cell_type": "markdown",
   "id": "coordinated-silver",
   "metadata": {},
   "source": [
    "# Mallows Model (MM) for complete permutations"
   ]
  },
  {
   "cell_type": "markdown",
   "id": "optical-bobby",
   "metadata": {},
   "source": [
    "The Mallows Model (MM) is an exponential family of probability models for permutation data. We consider $\\sigma$ to be a ranking. Formally, the MM using the a distance (Kendall's-$\\tau$, Hamming...) is expressed as follows: \n",
    "$$p(\\sigma)=\\dfrac{\\exp(-\\theta d(\\sigma, \\sigma_0))}{\\psi(\\theta)}$$ \n",
    "where $\\psi(\\theta) =  \\prod_{\\substack{j=1}}^{n-1} \\frac{1-\\exp(-\\theta(n-j+1))}{1 - \\exp(-\\theta)}$.  \n",
    "$\\sigma_0$ represents the central permutation and is the mode of the distribution iff the dispersion parameter $\\theta > 0$. In this case, the greater the distance of a permutation to $\\sigma_0$ the lower is its probability (it decreases exponentially). The dispersion parameter $\\theta$  controls the speed of this fall."
   ]
  },
  {
   "cell_type": "markdown",
   "id": "environmental-canyon",
   "metadata": {},
   "source": [
    "MM is also often defined as: $$p(\\sigma)=\\dfrac{\\phi^{d(\\sigma, \\sigma_0)}}{\\prod_{\\substack{j=1}}^{n-1} \\frac{1-\\phi^{(n-j+1)}}{1 - \\phi}}$$ which implies that $\\phi = \\exp(-\\theta)$. The next function allows to obtain $\\theta$ given $\\phi$.\n",
    "\n",
    "*Remark:* $\\phi$ is in $[0,1]$ here."
   ]
  },
  {
   "cell_type": "code",
   "execution_count": 1,
   "id": "latin-garlic",
   "metadata": {},
   "outputs": [],
   "source": [
    "import numpy as np\n",
    "import mallows_model as mm"
   ]
  },
  {
   "cell_type": "code",
   "execution_count": 2,
   "id": "critical-treasure",
   "metadata": {},
   "outputs": [],
   "source": [
    "phi = .7"
   ]
  },
  {
   "cell_type": "code",
   "execution_count": 3,
   "id": "developmental-japanese",
   "metadata": {},
   "outputs": [
    {
     "data": {
      "text/plain": [
       "0.35667494393873245"
      ]
     },
     "execution_count": 3,
     "metadata": {},
     "output_type": "execute_result"
    }
   ],
   "source": [
    "theta = mm.phi_to_theta(phi)\n",
    "theta"
   ]
  },
  {
   "cell_type": "markdown",
   "id": "noticed-lying",
   "metadata": {},
   "source": [
    "Also, we can transform the parameter $\\theta$ to $\\phi$ using the function:"
   ]
  },
  {
   "cell_type": "code",
   "execution_count": 4,
   "id": "large-shadow",
   "metadata": {},
   "outputs": [
    {
     "data": {
      "text/plain": [
       "0.7"
      ]
     },
     "execution_count": 4,
     "metadata": {},
     "output_type": "execute_result"
    }
   ],
   "source": [
    "phi = mm.theta_to_phi(theta)\n",
    "phi"
   ]
  },
  {
   "cell_type": "markdown",
   "id": "balanced-supervision",
   "metadata": {},
   "source": [
    "Using the following function we can automatically convert $\\theta$ to $\\phi$ or $\\phi$ to $\\theta$ providing one of them as input to the function but not both."
   ]
  },
  {
   "cell_type": "code",
   "execution_count": 5,
   "id": "cognitive-trader",
   "metadata": {},
   "outputs": [
    {
     "data": {
      "text/plain": [
       "(array(0.35667494), array(0.7))"
      ]
     },
     "execution_count": 5,
     "metadata": {},
     "output_type": "execute_result"
    }
   ],
   "source": [
    "mm.check_theta_phi(phi=phi, theta=None)"
   ]
  },
  {
   "cell_type": "markdown",
   "id": "designing-latitude",
   "metadata": {},
   "source": [
    "Usually, the MM is given with the following equivalent expression $$p(\\sigma) \\propto \\phi^{d(\\sigma,\\sigma_0)},$$\n",
    "where $\\phi^{d(\\sigma,\\sigma_0)}=\\exp(-\\theta d(\\sigma,\\sigma_0))$."
   ]
  },
  {
   "cell_type": "markdown",
   "id": "built-sampling",
   "metadata": {},
   "source": [
    "# Mallows Model for Top-$k$ rankings"
   ]
  },
  {
   "cell_type": "markdown",
   "id": "phantom-conviction",
   "metadata": {},
   "source": [
    "**Definition** A top-$k$ ranking ($k \\le n$) $\\sigma$ is a ranking $\\sigma = (\\sigma(1), \\sigma(2), \\dotsc, \\sigma(n))$ for which only the first $k$ ranks  are known. Hence ranks of items $i$ such that $\\sigma(i) \\le k$.\n",
    "\n",
    "The probability of top-$k$ ranking $\\sigma$ is \n",
    "\n",
    "$$p(\\sigma) = \\exp(-\\theta d(\\sigma, \\sigma_0))\\frac{\\psi(n-k, \\theta)}{\\psi(n, \\theta)}$$\n",
    "\n",
    "where $\\psi(n,\\theta)$ is the normalisation constant."
   ]
  },
  {
   "cell_type": "markdown",
   "id": "unexpected-algeria",
   "metadata": {},
   "source": [
    "An example of top-5 ranking (with $n=10$) with the package would be:"
   ]
  },
  {
   "cell_type": "code",
   "execution_count": 6,
   "id": "endangered-recall",
   "metadata": {},
   "outputs": [
    {
     "data": {
      "text/plain": [
       "array([ 4.,  0., nan,  1., nan,  3., nan,  2., nan, nan])"
      ]
     },
     "execution_count": 6,
     "metadata": {},
     "output_type": "execute_result"
    }
   ],
   "source": [
    "alpha = np.array([ 4.,  0., np.NaN, 1., np.NaN, 3., np.NaN, 2., np.NaN, np.NaN])\n",
    "alpha"
   ]
  }
 ],
 "metadata": {
  "kernelspec": {
   "display_name": "Python 3",
   "language": "python",
   "name": "python3"
  },
  "language_info": {
   "codemirror_mode": {
    "name": "ipython",
    "version": 3
   },
   "file_extension": ".py",
   "mimetype": "text/x-python",
   "name": "python",
   "nbconvert_exporter": "python",
   "pygments_lexer": "ipython3",
   "version": "3.7.6"
  }
 },
 "nbformat": 4,
 "nbformat_minor": 5
}
