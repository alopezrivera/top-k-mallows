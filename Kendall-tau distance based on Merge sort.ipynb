{
 "cells": [
  {
   "cell_type": "markdown",
   "metadata": {},
   "source": [
    "# Kendall's$-\\tau$ Distance"
   ]
  },
  {
   "cell_type": "markdown",
   "metadata": {},
   "source": [
    "In this Notebook, we will introduce an implementation of Kendall's$-\\tau$ distance using merge sort algorithm. Then, we compare it with a naive implementation with a time complexity equal to $O(n^2)$. The implementation can be found in the package [mallows_kendall](https://github.com/ekhiru/top-k-mallows/blob/master/mallows_kendall.py). "
   ]
  },
  {
   "cell_type": "code",
   "execution_count": 1,
   "metadata": {},
   "outputs": [],
   "source": [
    "import time\n",
    "import mallows_kendall as mk\n",
    "import itertools as it\n",
    "import numpy as np \n",
    "import seaborn as sns\n",
    "import matplotlib.pyplot as plt\n",
    "import pandas as pd "
   ]
  },
  {
   "cell_type": "markdown",
   "metadata": {},
   "source": [
    "Let $A$ and $B$ be two permutations with the same size, the following function computes Kendall's$-\\tau$ distance in $O(n^2)$ in the worst case. We will use it as a benchmarking algorithm."
   ]
  },
  {
   "cell_type": "code",
   "execution_count": 2,
   "metadata": {},
   "outputs": [],
   "source": [
    "def kendall_tau(A, B=None):\n",
    "    \"\"\"This function computes the kendall's-tau distance between two permutations.\n",
    "    If only one permutation is given, the distance will be computed with the\n",
    "    identity permutation as the second permutation\n",
    "        Parameters\n",
    "        ----------\n",
    "        A: ndarray\n",
    "            The first permutation\n",
    "        B: ndarray, optionnal\n",
    "            The second permutation (default is None)\n",
    "        Returns\n",
    "        -------\n",
    "        int\n",
    "            The kendall's-tau distances between both permutations\n",
    "    \"\"\"\n",
    "    if B is None : B = list(range(len(A)))\n",
    "    n = len(A)\n",
    "    pairs = it.combinations(range(n), 2)\n",
    "    distance = 0\n",
    "    for x, y in pairs:\n",
    "        a = A[x] - A[y]\n",
    "        try:\n",
    "            b = B[x] - B[y]\n",
    "        except:\n",
    "            print(\"ERROR kendall_tau, check b\",A, B, x, y)\n",
    "        if (a * b < 0):\n",
    "            distance += 1\n",
    "    return distance\n"
   ]
  },
  {
   "cell_type": "markdown",
   "metadata": {},
   "source": [
    "## 1. Performance comparison"
   ]
  },
  {
   "cell_type": "markdown",
   "metadata": {},
   "source": [
    "### 1.1 Complete permutations"
   ]
  },
  {
   "cell_type": "markdown",
   "metadata": {},
   "source": [
    "Firstly, we compare these algorithms using two permutations of different sizes. Both permutations don't contain missing values. The next figure shows the performance of each algorithm as the length of permutations increases."
   ]
  },
  {
   "cell_type": "code",
   "execution_count": 3,
   "metadata": {},
   "outputs": [],
   "source": [
    "def genCompPermutations(n=10): # Generate 2 complete permutations\n",
    "    A = np.random.permutation(n)\n",
    "    B = np.random.permutation(n)\n",
    "    return A, B"
   ]
  },
  {
   "cell_type": "code",
   "execution_count": 4,
   "metadata": {},
   "outputs": [],
   "source": [
    "lst = []\n",
    "def Kendall():\n",
    "\n",
    "    for n in range(2, 10003, 1000):\n",
    "        for rep in range(10):\n",
    "            \n",
    "            A, B = genCompPermutations(n)\n",
    "\n",
    "            start_time = time.time()\n",
    "            c1 = mk.distance(np.array(B), np.array(A)) # Merge sort\n",
    "            end_time = time.time()\n",
    "            t = end_time - start_time\n",
    "            algo = \"Merge sort\"\n",
    "            \n",
    "            lst.append([n, t, algo])\n",
    "            \n",
    "            start_time = time.time()\n",
    "            c2 = kendall_tau(A,B) # Naive\n",
    "            end_time = time.time()\n",
    "            t = end_time - start_time\n",
    "            algo = \"Naive\"\n",
    "\n",
    "            lst.append([n, t, algo])\n",
    "    return lst\n",
    "            \n",
    "lst = Kendall()"
   ]
  },
  {
   "cell_type": "code",
   "execution_count": 5,
   "metadata": {},
   "outputs": [],
   "source": [
    "import matplotlib.pyplot as plt"
   ]
  },
  {
   "cell_type": "code",
   "execution_count": 7,
   "metadata": {},
   "outputs": [
    {
     "data": {
      "image/png": "[encoded data removed]",
      "text/plain": [
       "<Figure size 554.4x379.44 with 1 Axes>"
      ]
     },
     "metadata": {},
     "output_type": "display_data"
    }
   ],
   "source": [
    "sns.set(rc={'figure.figsize':(7.7,5.27)})\n",
    "dataframe = pd.DataFrame(lst, columns=[ \"n\", \"Time (s)\", \"Algorithm\"])\n",
    "\n",
    "line = sns.lineplot(data=dataframe, x=\"n\", y=\"Time (s)\",hue=\"Algorithm\", \n",
    "                    palette = sns.color_palette(\"gist_ncar_r\", len(dataframe[\"Algorithm\"].drop_duplicates())))\n",
    "line.set_yscale('log')"
   ]
  },
  {
   "cell_type": "markdown",
   "metadata": {},
   "source": [
    "### 1.2 Partial permutations"
   ]
  },
  {
   "cell_type": "markdown",
   "metadata": {},
   "source": [
    "The implemented algorithm is adapted with partial permutations as well, i.e. the permutations with missing values. The plot below compares both algorithms when one of the permutations at least is partial."
   ]
  },
  {
   "cell_type": "code",
   "execution_count": 8,
   "metadata": {},
   "outputs": [],
   "source": [
    "v = .4  # Control the number of missing values in each permutations (0< v <1)"
   ]
  },
  {
   "cell_type": "code",
   "execution_count": 9,
   "metadata": {},
   "outputs": [],
   "source": [
    "def genPartPermutations(n=10, v=.5, phi=.9): # Generate 2 complete permutations\n",
    "    A, B = mk.sample(m=2, n=n, k=int((1-v)*n), phi=phi, s0=np.array(range(n)))\n",
    "\n",
    "    return A, B"
   ]
  },
  {
   "cell_type": "code",
   "execution_count": 10,
   "metadata": {},
   "outputs": [],
   "source": [
    "lst = []\n",
    "def Kendall(v):\n",
    "    for n in range(2, 1003, 100): \n",
    "        for rep in range(10):\n",
    "\n",
    "            A, B = genPartPermutations(n, v)\n",
    "\n",
    "            start_time = time.time()\n",
    "            c1 = kendall_tau(np.array(B), np.array(A)) # Naive\n",
    "            end_time = time.time()\n",
    "\n",
    "            t = end_time - start_time\n",
    "            algo = \"Naive\"\n",
    "            lst.append([n, t, algo])\n",
    "\n",
    "            start_time = time.time()\n",
    "            c2 = mk.distance(A,B)# Merge sort\n",
    "            end_time = time.time()\n",
    "\n",
    "            t = end_time - start_time\n",
    "            algo = \"Merge sort\"\n",
    "            lst.append([n, t, algo])\n",
    "    return lst"
   ]
  },
  {
   "cell_type": "code",
   "execution_count": 11,
   "metadata": {},
   "outputs": [],
   "source": [
    "lst = Kendall(v)"
   ]
  },
  {
   "cell_type": "code",
   "execution_count": 12,
   "metadata": {
    "scrolled": false
   },
   "outputs": [
    {
     "data": {
      "image/png": "[encoded data removed]",
      "text/plain": [
       "<Figure size 554.4x379.44 with 1 Axes>"
      ]
     },
     "metadata": {},
     "output_type": "display_data"
    }
   ],
   "source": [
    "sns.set(rc={'figure.figsize':(7.7,5.27)})\n",
    "dataframe = pd.DataFrame(lst, columns=[ \"n\", \"Time (s)\", \"Algorithm\"])\n",
    "\n",
    "line = sns.lineplot(data=dataframe, x=\"n\", y=\"Time (s)\",hue=\"Algorithm\", \n",
    "                    palette = sns.color_palette(\"gist_ncar_r\", len(dataframe[\"Algorithm\"].drop_duplicates())))\n",
    "line.set_yscale('log')"
   ]
  },
  {
   "cell_type": "markdown",
   "metadata": {},
   "source": [
    "When $n = 1.000.000$, the merge sort based algorithm runs in about $10$ seconds for complete permutations. Whereas, the naive algorithm tends to infinity in the same conditions. In addition, with the same value of $n$, the algorithm runs faster for partial permutations dependently on the number of missing values it has (more missing values speed up the process). The following two cells show its performance in the case of complete permutations."
   ]
  },
  {
   "cell_type": "code",
   "execution_count": 28,
   "metadata": {},
   "outputs": [],
   "source": [
    "n=1000000\n",
    "A, B = genCompPermutations(n)"
   ]
  },
  {
   "cell_type": "code",
   "execution_count": 29,
   "metadata": {
    "scrolled": true
   },
   "outputs": [
    {
     "name": "stdout",
     "output_type": "stream",
     "text": [
      "CPU times: user 8.63 s, sys: 228 ms, total: 8.86 s\n",
      "Wall time: 8.86 s\n"
     ]
    },
    {
     "data": {
      "text/plain": [
       "249723789598"
      ]
     },
     "execution_count": 29,
     "metadata": {},
     "output_type": "execute_result"
    }
   ],
   "source": [
    "%%time\n",
    "mk.distance(A,B)"
   ]
  },
  {
   "cell_type": "code",
   "execution_count": null,
   "metadata": {},
   "outputs": [],
   "source": []
  }
 ],
 "metadata": {
  "kernelspec": {
   "display_name": "Python 3",
   "language": "python",
   "name": "python3"
  },
  "language_info": {
   "codemirror_mode": {
    "name": "ipython",
    "version": 3
   },
   "file_extension": ".py",
   "mimetype": "text/x-python",
   "name": "python",
   "nbconvert_exporter": "python",
   "pygments_lexer": "ipython3",
   "version": "3.7.6"
  }
 },
 "nbformat": 4,
 "nbformat_minor": 4
}
