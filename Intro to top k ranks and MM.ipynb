{
 "cells": [
  {
   "cell_type": "markdown",
   "metadata": {
    "nteract": {
     "transient": {
      "deleting": false
     }
    }
   },
   "source": [
    "# Mallows Kendall\n",
    "### A python package to for the Mallows model with top-$k$ and complete rankings \n",
    "\n",
    "We present methods for working with the Mallows Model (MM), the best-known distribution for permutations. Also, we consider operations for partial rankings (top-$k$ rankings) as well as complete rankings. Cite as \n",
    "\n",
    "Ahmed Boujaada, Fabien Collas and Ekhine Irurozki (2020). Concentric mixtures of Mallows models for top-k rankings: sampling and identifiability. In ArXiv."
   ]
  },
  {
   "cell_type": "code",
   "execution_count": 1,
   "metadata": {
    "execution": {
     "iopub.execute_input": "2021-03-30T08:05:32.448Z",
     "iopub.status.busy": "2021-03-30T08:05:32.435Z",
     "iopub.status.idle": "2021-03-30T08:05:32.725Z",
     "shell.execute_reply": "2021-03-30T08:05:08.951Z"
    }
   },
   "outputs": [],
   "source": [
    "import os \n",
    "import mallows_kendall as mk\n",
    "import numpy as np \n",
    "import scipy as sp\n",
    "import seaborn as sns\n",
    "import matplotlib.pyplot as plt\n",
    "import pandas as pd \n"
   ]
  },
  {
   "cell_type": "markdown",
   "metadata": {},
   "source": [
    "# Preliminaries"
   ]
  },
  {
   "cell_type": "markdown",
   "metadata": {},
   "source": [
    "## Permutations"
   ]
  },
  {
   "cell_type": "markdown",
   "metadata": {},
   "source": [
    "**Generation** The most basic function consists in generating a permutation $\\sigma$ from $S_n$, the set of all permutations. The permutations are coded as vectors of the first $n$ natural numbers (beginning with 0 here in Python) where each item appears once and once only.   \n",
    "Complete permutations can be defined here as `ndarrays` with dtype `int` or `list` of integers as well.  \n",
    "They can be defined by hand as follows:"
   ]
  },
  {
   "cell_type": "code",
   "execution_count": 2,
   "metadata": {
    "execution": {
     "iopub.execute_input": "2021-03-30T08:05:32.764Z",
     "iopub.status.busy": "2021-03-30T08:05:32.750Z",
     "iopub.status.idle": "2021-03-30T08:05:32.792Z",
     "shell.execute_reply": "2021-03-30T08:05:10.415Z"
    }
   },
   "outputs": [
    {
     "data": {
      "text/plain": [
       "array([3, 1, 2, 0, 4])"
      ]
     },
     "execution_count": 2,
     "metadata": {},
     "output_type": "execute_result"
    }
   ],
   "source": [
    "perm1 = np.array([3,1,2,0,4])\n",
    "perm1"
   ]
  },
  {
   "cell_type": "markdown",
   "metadata": {},
   "source": [
    "They can also be randomly generated as follows ($n$ being the length of the permutation): "
   ]
  },
  {
   "cell_type": "code",
   "execution_count": 3,
   "metadata": {
    "execution": {
     "iopub.execute_input": "2021-03-30T08:05:32.826Z",
     "iopub.status.busy": "2021-03-30T08:05:32.815Z",
     "iopub.status.idle": "2021-03-30T08:05:32.849Z",
     "shell.execute_reply": "2021-03-30T08:05:11.004Z"
    }
   },
   "outputs": [
    {
     "data": {
      "text/plain": [
       "array([1, 2, 3, 4, 0])"
      ]
     },
     "execution_count": 3,
     "metadata": {},
     "output_type": "execute_result"
    }
   ],
   "source": [
    "n=5\n",
    "perm2 = np.random.permutation(n)\n",
    "perm2"
   ]
  },
  {
   "cell_type": "markdown",
   "metadata": {},
   "source": [
    "**Operations** Two permutations can be composed and the result is a permutation. This operation is not commutative in general."
   ]
  },
  {
   "cell_type": "code",
   "execution_count": 4,
   "metadata": {
    "execution": {
     "iopub.execute_input": "2021-03-30T08:05:32.880Z",
     "iopub.status.busy": "2021-03-30T08:05:32.868Z",
     "iopub.status.idle": "2021-03-30T08:05:32.905Z",
     "shell.execute_reply": "2021-03-30T08:05:11.311Z"
    }
   },
   "outputs": [
    {
     "data": {
      "text/plain": [
       "array([1, 2, 0, 4, 3])"
      ]
     },
     "execution_count": 4,
     "metadata": {},
     "output_type": "execute_result"
    }
   ],
   "source": [
    "mk.compose(perm1, perm2)"
   ]
  },
  {
   "cell_type": "markdown",
   "metadata": {},
   "source": [
    "The inverse of a permutation can also be obtained with:"
   ]
  },
  {
   "cell_type": "code",
   "execution_count": 5,
   "metadata": {
    "execution": {
     "iopub.execute_input": "2021-03-30T08:05:32.941Z",
     "iopub.status.busy": "2021-03-30T08:05:32.923Z",
     "iopub.status.idle": "2021-03-30T08:05:32.976Z",
     "shell.execute_reply": "2021-03-30T08:05:11.699Z"
    }
   },
   "outputs": [
    {
     "data": {
      "text/plain": [
       "array([3, 1, 2, 0, 4])"
      ]
     },
     "execution_count": 5,
     "metadata": {},
     "output_type": "execute_result"
    }
   ],
   "source": [
    "mk.inverse(perm1)"
   ]
  },
  {
   "cell_type": "markdown",
   "metadata": {},
   "source": [
    "## Distances"
   ]
  },
  {
   "cell_type": "markdown",
   "metadata": {},
   "source": [
    "The Kendall's-$\\tau$ distance $d(\\sigma, \\pi)$ counts the number of pairwise disagreements beetween $\\sigma$ and $\\pi$, i.e., the number of pairs of positions in which the items are in a particular order in $\\sigma$, and the reverse order in $\\pi$. The Kendall's-$\\tau$ distance between two permutations can be computed as follows: "
   ]
  },
  {
   "cell_type": "code",
   "execution_count": 6,
   "metadata": {
    "execution": {
     "iopub.execute_input": "2021-03-30T08:05:33.011Z",
     "iopub.status.busy": "2021-03-30T08:05:32.997Z",
     "iopub.status.idle": "2021-03-30T08:05:33.041Z",
     "shell.execute_reply": "2021-03-30T08:05:19.844Z"
    }
   },
   "outputs": [
    {
     "data": {
      "text/plain": [
       "9"
      ]
     },
     "execution_count": 6,
     "metadata": {},
     "output_type": "execute_result"
    }
   ],
   "source": [
    "mk.distance(perm1, perm2)"
   ]
  },
  {
   "cell_type": "markdown",
   "metadata": {},
   "source": [
    "If only one permutation is given in input, it will be assumed that the second permutation is the identity permutation, $e = (1, 2, \\dotsc, n)$."
   ]
  },
  {
   "cell_type": "code",
   "execution_count": 7,
   "metadata": {
    "execution": {
     "iopub.execute_input": "2021-03-30T08:05:33.079Z",
     "iopub.status.busy": "2021-03-30T08:05:33.065Z",
     "iopub.status.idle": "2021-03-30T08:05:33.111Z",
     "shell.execute_reply": "2021-03-30T08:05:26.779Z"
    }
   },
   "outputs": [
    {
     "data": {
      "text/plain": [
       "5"
      ]
     },
     "execution_count": 7,
     "metadata": {},
     "output_type": "execute_result"
    }
   ],
   "source": [
    "mk.distance(perm1)"
   ]
  },
  {
   "cell_type": "markdown",
   "metadata": {},
   "source": [
    "The maximum value of the kendall's-$\\tau$ distance between two permutation of length $n$ is $\\frac{n(n-1)}{2}$. It is possible to get this value using the following function: "
   ]
  },
  {
   "cell_type": "code",
   "execution_count": 8,
   "metadata": {
    "execution": {
     "iopub.execute_input": "2021-03-30T08:05:33.147Z",
     "iopub.status.busy": "2021-03-30T08:05:33.133Z",
     "iopub.status.idle": "2021-03-30T08:05:33.174Z",
     "shell.execute_reply": "2021-03-30T08:05:21.538Z"
    }
   },
   "outputs": [
    {
     "data": {
      "text/plain": [
       "10"
      ]
     },
     "execution_count": 8,
     "metadata": {},
     "output_type": "execute_result"
    }
   ],
   "source": [
    "mk.max_dist(n)"
   ]
  },
  {
   "cell_type": "markdown",
   "metadata": {},
   "source": [
    "For each $\\sigma \\in S_n$ there exists a unique vector, called inversion vector of $\\sigma$ with regards to the Kendall's-$\\tau$ distance, denoted $V(\\sigma) = (V_1(\\sigma), \\dotsc, V_{n-1}(\\sigma))$ and such that $d(\\sigma) = \\sum_{j=1}^{n-1}V_j(\\sigma)$.   \n",
    "The $j^{th}$ element $V_j(\\sigma)$ is given by: $V_j(\\sigma) = \\sum\\limits_{i=j+1}^{n}\\mathbb{1}_{\\sigma(i) < \\sigma(j)}$, $\\forall j \\in \\{1, \\dotsc, n-1\\}$. It follows that $0 \\le V_j(\\sigma) \\le n-j$. \n",
    "\n",
    "Finally there is a bijection between each $\\sigma \\in S_n$ and each possible $V(\\sigma)$ inversion vector. In the package the conversion from one form to another is done using the two following functions:  \n",
    "\n",
    "- From $\\sigma$ to $V(\\sigma)$ (here $V$ is of the same length $n$ as the permutation , thus the final $n^{th}$ element of $V$ will always equal $0$) :"
   ]
  },
  {
   "cell_type": "code",
   "execution_count": 9,
   "metadata": {
    "execution": {
     "iopub.execute_input": "2021-03-30T08:05:33.209Z",
     "iopub.status.busy": "2021-03-30T08:05:33.194Z",
     "iopub.status.idle": "2021-03-30T08:05:33.234Z",
     "shell.execute_reply": "2021-03-30T07:54:22.410Z"
    }
   },
   "outputs": [
    {
     "data": {
      "text/plain": [
       "array([3, 1, 1, 0, 0])"
      ]
     },
     "execution_count": 9,
     "metadata": {},
     "output_type": "execute_result"
    }
   ],
   "source": [
    "V_perm1 = mk.ranking_to_v(perm1)\n",
    "V_perm1"
   ]
  },
  {
   "cell_type": "markdown",
   "metadata": {},
   "source": [
    "- From $V(\\sigma)$ to $\\sigma$ :"
   ]
  },
  {
   "cell_type": "code",
   "execution_count": 10,
   "metadata": {
    "execution": {
     "iopub.execute_input": "2021-03-30T08:05:33.265Z",
     "iopub.status.busy": "2021-03-30T08:05:33.253Z",
     "iopub.status.idle": "2021-03-30T08:05:33.294Z",
     "shell.execute_reply": "2021-03-30T07:54:22.418Z"
    }
   },
   "outputs": [
    {
     "data": {
      "text/plain": [
       "array([3., 1., 2., 0., 4.])"
      ]
     },
     "execution_count": 10,
     "metadata": {},
     "output_type": "execute_result"
    }
   ],
   "source": [
    "mk.v_to_ranking(V_perm1, n)"
   ]
  },
  {
   "cell_type": "markdown",
   "metadata": {
    "nteract": {
     "transient": {
      "deleting": false
     }
    }
   },
   "source": [
    "This package also allows to sample a permutation with a given number of inversions, i.e., at a given distance, where all the posible permutations have the same probability of being generated"
   ]
  },
  {
   "cell_type": "code",
   "execution_count": 11,
   "metadata": {
    "execution": {
     "iopub.execute_input": "2021-03-30T08:05:33.328Z",
     "iopub.status.busy": "2021-03-30T08:05:33.316Z",
     "iopub.status.idle": "2021-03-30T08:05:33.354Z",
     "shell.execute_reply": "2021-03-30T07:54:22.425Z"
    },
    "jupyter": {
     "outputs_hidden": false,
     "source_hidden": false
    },
    "nteract": {
     "transient": {
      "deleting": false
     }
    }
   },
   "outputs": [
    {
     "data": {
      "text/plain": [
       "array([0., 3., 1., 2., 4.])"
      ]
     },
     "execution_count": 11,
     "metadata": {},
     "output_type": "execute_result"
    }
   ],
   "source": [
    "mk.random_perm_at_dist(n, 2, mk.num_perms_at_dist(n))\n"
   ]
  },
  {
   "cell_type": "markdown",
   "metadata": {},
   "source": [
    "*note*: We point out that this notation is taken from Meilǎ, M., Phadnis, K., Patterson, A., & Bilmes, J. (2007). Consensus ranking under the exponential model. In *Proceedings of the 23rd Conference on Uncertainty in Artificial Intelligence, UAI 2007* (pp. 285–294). Note thst the definition of the inversion vector difers from the one in the original paper of MM Fligner, M. A., & Verducci, J. S. (1986). Distance based ranking models. Journal of the Royal Statistical Society, 48(3), 359–369.\n",
    "This different versions imply different expressions for the MM which will affect the capability of the MM to be used for partial permutations.\n",
    "\n",
    "# Mallows Model (MM) for complete permutations"
   ]
  },
  {
   "cell_type": "markdown",
   "metadata": {},
   "source": [
    "The Mallows Model (MM) is an exponential family of probability models for permutation data. We consider $\\sigma$ to be a ranking. Formally, the MM using the Kendall's-$\\tau$ distance is expressed as follows: \n",
    "$$p(\\sigma)=\\dfrac{\\exp(-\\theta d(\\sigma \\sigma_0^{-1}))}{\\psi(\\theta)}$$ \n",
    "where $\\psi(\\theta) =  \\prod_{\\substack{j=1}}^{n-1} \\frac{1-\\exp(-\\theta(n-j+1))}{1 - \\exp(-\\theta)}$.  \n",
    "$\\sigma_0$ represents the central permutation and is the mode of the distribution iff the dispersion parameter $\\theta > 0$. In this case, the greater the distance of a permutation to $\\sigma_0$ the lower is its probability (it decreases exponentially). The dispersion parameter $\\theta$  controls the speed of this fall.\n",
    "\n"
   ]
  },
  {
   "cell_type": "code",
   "execution_count": 12,
   "metadata": {
    "execution": {
     "iopub.execute_input": "2021-03-30T08:06:16.361Z",
     "iopub.status.busy": "2021-03-30T08:06:16.346Z",
     "iopub.status.idle": "2021-03-30T08:06:16.389Z",
     "shell.execute_reply": "2021-03-30T08:06:16.402Z"
    }
   },
   "outputs": [
    {
     "name": "stdout",
     "output_type": "stream",
     "text": [
      "0.008161793281714687\n"
     ]
    }
   ],
   "source": [
    "def prob_MM(sigma, sigma_0, theta): \n",
    "    \n",
    "    sigma_0_inv = mk.inverse(sigma_0)\n",
    "    \n",
    "    psi = np.prod(np.array([(1 - np.exp(( - n + j ) * theta))/(1 - np.exp(-theta)) for j in range(n-1)]))\n",
    "    \n",
    "    dist = mk.distance( mk.compose(sigma, sigma_0_inv) )\n",
    "    \n",
    "    return np.exp( - theta *  dist ) / psi\n",
    "    \n",
    "n = 5    \n",
    "sigma = np.array([3,1,2,0,4])\n",
    "sigma_0 = np.array(range(5))\n",
    "theta = 0.1\n",
    "\n",
    "print(prob_MM(sigma, sigma_0, theta))"
   ]
  },
  {
   "cell_type": "markdown",
   "metadata": {},
   "source": [
    "**Sampling** This package includes a sampler based on the factorization of the Kendall's-$\\tau$ distance. In the later sections we will also present how this can be adapted to top-$k$ rankings. This differs to the classical sampling, usually done using the Repeated Insertion Model (RIM) and which can not be extended to top-$k$ rankings.\n"
   ]
  },
  {
   "cell_type": "code",
   "execution_count": 14,
   "metadata": {
    "execution": {
     "iopub.execute_input": "2021-03-30T08:06:17.292Z",
     "iopub.status.busy": "2021-03-30T08:06:17.276Z",
     "iopub.status.idle": "2021-03-30T07:54:20.862Z",
     "shell.execute_reply": "2021-03-30T07:54:22.439Z"
    },
    "jupyter": {
     "outputs_hidden": false,
     "source_hidden": false
    },
    "nteract": {
     "transient": {
      "deleting": false
     }
    }
   },
   "outputs": [
    {
     "data": {
      "text/plain": [
       "array([[0., 1., 2., 3., 4.],\n",
       "       [0., 1., 3., 2., 4.],\n",
       "       [0., 1., 4., 3., 2.],\n",
       "       [0., 1., 2., 3., 4.]])"
      ]
     },
     "execution_count": 14,
     "metadata": {},
     "output_type": "execute_result"
    }
   ],
   "source": [
    "mk.sample(m=4,n=5,theta=1.5)"
   ]
  },
  {
   "cell_type": "markdown",
   "metadata": {},
   "source": [
    "Note that in the package the sampling functions generates the samples considering $\\sigma_0 = e$, identity permutation by default. But any other central permutation can be given as a parameter.  \n",
    "In practice, we can draw a sample from a MM as follows:"
   ]
  },
  {
   "cell_type": "code",
   "execution_count": 15,
   "metadata": {
    "execution": {
     "iopub.execute_input": "2021-03-30T08:06:45.218Z",
     "iopub.status.busy": "2021-03-30T08:06:45.204Z",
     "iopub.status.idle": "2021-03-30T08:06:45.249Z",
     "shell.execute_reply": "2021-03-30T08:06:45.263Z"
    }
   },
   "outputs": [
    {
     "data": {
      "text/plain": [
       "array([[4., 3., 2., 1., 0.],\n",
       "       [4., 3., 2., 0., 1.],\n",
       "       [4., 2., 3., 1., 0.],\n",
       "       [4., 3., 2., 0., 1.]])"
      ]
     },
     "execution_count": 15,
     "metadata": {},
     "output_type": "execute_result"
    }
   ],
   "source": [
    "mk.sample(m=4, n=5, theta=1.5, s0=np.array([4,3,2,1,0]))"
   ]
  },
  {
   "cell_type": "markdown",
   "metadata": {
    "nteract": {
     "transient": {
      "deleting": false
     }
    }
   },
   "source": [
    "Usually, the MM is given with the following equivalent expression\n",
    "$$p(\\sigma) \\propto \\phi^{d(\\sigma,\\sigma_0)},$$\n",
    "where $\\phi^{d(\\sigma,\\sigma_0)}=\\exp(-\\theta d(\\sigma,\\sigma_0))$ and \n",
    "for which the dispersion parameter is denoted as $\\phi\\in [0,1]$. We can relate the two dispersion parameters, $\\theta$ and $\\phi$, of the two expressions as  $\\phi=-\\log(\\theta)$. In this package, we can use also this second formulation by specifying parameter `phi` instead of `theta`. This functionallity holds for most funstions. The sampling, for example, is done then as follows:"
   ]
  },
  {
   "cell_type": "code",
   "execution_count": 16,
   "metadata": {
    "execution": {
     "iopub.execute_input": "2021-03-30T08:06:54.873Z",
     "iopub.status.busy": "2021-03-30T08:06:54.860Z",
     "iopub.status.idle": "2021-03-30T08:06:54.903Z",
     "shell.execute_reply": "2021-03-30T08:06:54.916Z"
    },
    "jupyter": {
     "outputs_hidden": false,
     "source_hidden": false
    },
    "nteract": {
     "transient": {
      "deleting": false
     }
    }
   },
   "outputs": [
    {
     "data": {
      "text/plain": [
       "array([[0., 1., 2., 3., 4.],\n",
       "       [1., 0., 3., 2., 4.],\n",
       "       [2., 0., 1., 4., 3.],\n",
       "       [3., 1., 4., 0., 2.]])"
      ]
     },
     "execution_count": 16,
     "metadata": {},
     "output_type": "execute_result"
    }
   ],
   "source": [
    "mk.sample(m=4,n=5,phi=.5)"
   ]
  },
  {
   "cell_type": "markdown",
   "metadata": {
    "nteract": {
     "transient": {
      "deleting": false
     }
    }
   },
   "source": [
    "and the  trasformation between the two is as follows"
   ]
  },
  {
   "cell_type": "code",
   "execution_count": 17,
   "metadata": {
    "execution": {
     "iopub.execute_input": "2021-03-30T08:06:57.183Z",
     "iopub.status.busy": "2021-03-30T08:06:57.168Z",
     "iopub.status.idle": "2021-03-30T08:06:57.207Z",
     "shell.execute_reply": "2021-03-30T08:06:57.222Z"
    },
    "jupyter": {
     "outputs_hidden": false,
     "source_hidden": false
    },
    "nteract": {
     "transient": {
      "deleting": false
     }
    }
   },
   "outputs": [
    {
     "data": {
      "text/plain": [
       "(0.4965853037914095, 0.35667494393873245)"
      ]
     },
     "execution_count": 17,
     "metadata": {},
     "output_type": "execute_result"
    }
   ],
   "source": [
    "mk.theta_to_phi(0.7), mk.phi_to_theta(0.7)"
   ]
  },
  {
   "cell_type": "markdown",
   "metadata": {},
   "source": [
    "**Expected distance** The expected value of Kendall's-$\\tau$ distance under the MM is given by: \n",
    "$$\\mathbb{E}[D] = \\frac{n \\cdot \\exp(-\\theta)}{1 - \\exp(-\\theta)} - \\sum_{j=1}^n\\frac{j \\cdot \\exp(-j \\theta)}{1 - \\exp(-j \\theta)}$$"
   ]
  },
  {
   "cell_type": "code",
   "execution_count": 18,
   "metadata": {
    "execution": {
     "iopub.execute_input": "2021-03-30T08:07:52.608Z",
     "iopub.status.busy": "2021-03-30T08:07:52.591Z",
     "iopub.status.idle": "2021-03-30T08:07:52.638Z",
     "shell.execute_reply": "2021-03-30T08:07:52.651Z"
    }
   },
   "outputs": [
    {
     "data": {
      "text/plain": [
       "2.4578024409695693"
      ]
     },
     "execution_count": 18,
     "metadata": {},
     "output_type": "execute_result"
    }
   ],
   "source": [
    "theta_mm = 0.7\n",
    "sample_mm = mk.sample(m=4,n=5,theta=1.5)\n",
    "expected_dist = mk.expected_dist_mm(n, theta_mm)\n",
    "expected_dist"
   ]
  },
  {
   "cell_type": "markdown",
   "metadata": {},
   "source": [
    "**Variance** The variance of Kendall's-$\\tau$ distance under the MM can be expressed as follows: \n",
    "$$\\mathbb{V}[D] = \\dfrac{ n \\cdot \\exp(-\\theta) }{ (1 - \\exp(-\\theta))^2 } - \\sum_{j=1}^n \\dfrac{ j^2\\exp(-j \\theta) }{ (1 - \\exp(-j \\theta))^2 }$$"
   ]
  },
  {
   "cell_type": "code",
   "execution_count": 19,
   "metadata": {
    "execution": {
     "iopub.execute_input": "2021-03-30T08:07:54.119Z",
     "iopub.status.busy": "2021-03-30T08:07:54.106Z",
     "iopub.status.idle": "2021-03-30T08:07:54.147Z",
     "shell.execute_reply": "2021-03-30T08:07:54.160Z"
    }
   },
   "outputs": [
    {
     "data": {
      "text/plain": [
       "2.763301117320907"
      ]
     },
     "execution_count": 19,
     "metadata": {},
     "output_type": "execute_result"
    }
   ],
   "source": [
    "variance_dist = mk.variance_dist_mm(n, theta_mm)\n",
    "variance_dist"
   ]
  },
  {
   "cell_type": "markdown",
   "metadata": {},
   "source": [
    "**Learning** Then Borda algorithm allows to approximate the central permutation:  "
   ]
  },
  {
   "cell_type": "code",
   "execution_count": 20,
   "metadata": {
    "execution": {
     "iopub.execute_input": "2021-03-30T08:07:54.817Z",
     "iopub.status.busy": "2021-03-30T08:07:54.803Z",
     "iopub.status.idle": "2021-03-30T08:07:54.842Z",
     "shell.execute_reply": "2021-03-30T08:07:54.854Z"
    }
   },
   "outputs": [
    {
     "data": {
      "text/plain": [
       "array([0, 1, 2, 3, 4])"
      ]
     },
     "execution_count": 20,
     "metadata": {},
     "output_type": "execute_result"
    }
   ],
   "source": [
    "mk.borda(sample_mm)"
   ]
  },
  {
   "cell_type": "markdown",
   "metadata": {},
   "source": [
    "The function `fit_mm` returns an approximation to the MLE of the parameters $\\sigma_0$ and $\\theta$. The consensus $\\sigma_0$ is approximated with the well known Borda count algorithm. "
   ]
  },
  {
   "cell_type": "code",
   "execution_count": 21,
   "metadata": {
    "execution": {
     "iopub.execute_input": "2021-03-30T08:07:55.524Z",
     "iopub.status.busy": "2021-03-30T08:07:55.510Z",
     "iopub.status.idle": "2021-03-30T08:07:55.624Z",
     "shell.execute_reply": "2021-03-30T08:07:55.637Z"
    }
   },
   "outputs": [
    {
     "name": "stdout",
     "output_type": "stream",
     "text": [
      "[0 1 2 3 4]\n",
      "0.27324215938699303\n"
     ]
    }
   ],
   "source": [
    "sigma_borda, phi_mm_mle = mk.fit_mm(sample_mm)\n",
    "print(sigma_borda)\n",
    "print(phi_mm_mle)"
   ]
  },
  {
   "cell_type": "markdown",
   "metadata": {},
   "source": [
    "MM is also often defined as: $$p(\\sigma)=\\dfrac{\\phi^{d(\\sigma \\sigma_0^{-1})}}{\\prod_{\\substack{j=1}}^{n-1} \\frac{1-\\phi^{(n-j+1)}}{1 - \\phi}}$$ which implies that $\\phi = \\exp(-\\theta)$. The next function allows to obtain $\\theta$ given $\\phi$.\n",
    "\n",
    "*Remark:* $\\phi$ is in $[0,1]$ here."
   ]
  },
  {
   "cell_type": "code",
   "execution_count": 22,
   "metadata": {
    "execution": {
     "iopub.execute_input": "2021-03-30T08:07:56.060Z",
     "iopub.status.busy": "2021-03-30T08:07:56.048Z",
     "iopub.status.idle": "2021-03-30T08:07:56.087Z",
     "shell.execute_reply": "2021-03-30T08:07:56.100Z"
    }
   },
   "outputs": [
    {
     "data": {
      "text/plain": [
       "1.2973968462548509"
      ]
     },
     "execution_count": 22,
     "metadata": {},
     "output_type": "execute_result"
    }
   ],
   "source": [
    "theta_mm_mle = mk.phi_to_theta(phi_mm_mle)\n",
    "theta_mm_mle"
   ]
  },
  {
   "cell_type": "markdown",
   "metadata": {},
   "source": [
    "# Mallows Model for Top-$k$ rankings"
   ]
  },
  {
   "cell_type": "markdown",
   "metadata": {},
   "source": [
    "**Definition** A top-$k$ ranking ($k \\le n$) $\\sigma$ is a ranking $\\sigma = (\\sigma(1), \\sigma(2), \\dotsc, \\sigma(n))$ for which only the first $k$ ranks  are known. Hence ranks of items $i$ such that $\\sigma(i) \\le k$.\n",
    "\n",
    "An example of top-5 ranking (with $n=10$) with the package would be:"
   ]
  },
  {
   "cell_type": "code",
   "execution_count": 23,
   "metadata": {
    "execution": {
     "iopub.execute_input": "2021-03-30T08:07:56.925Z",
     "iopub.status.busy": "2021-03-30T08:07:56.913Z",
     "iopub.status.idle": "2021-03-30T08:07:56.951Z",
     "shell.execute_reply": "2021-03-30T08:07:56.963Z"
    }
   },
   "outputs": [
    {
     "data": {
      "text/plain": [
       "array([ 4.,  0., nan,  1., nan,  3., nan,  2., nan, nan])"
      ]
     },
     "execution_count": 23,
     "metadata": {},
     "output_type": "execute_result"
    }
   ],
   "source": [
    "alpha = np.array([ 4.,  0., np.NaN, 1., np.NaN, 3., np.NaN, 2., np.NaN, np.NaN])\n",
    "alpha"
   ]
  },
  {
   "cell_type": "markdown",
   "metadata": {},
   "source": [
    "**Sampling** In this part the sampling of the top-$k$ rankings is discussed.  \n",
    "Perhaps the most natural idea to generate top-$k$ rankings would be to generate the full rankings, using the Repeated Insertion Model for example, and to cut these obtained permutations after position $k$. This is possible, yet it seems computationally non-optimal with a complexity of $O(n^2)$.    \n",
    "\n",
    "Here we adapt the methods of previous sections to top-$k$ rankings. This method is based on sampling partially the inversion vectors. "
   ]
  },
  {
   "cell_type": "markdown",
   "metadata": {},
   "source": [
    "In practice in the package, a top-$k$ ranking can be sampled as follows: "
   ]
  },
  {
   "cell_type": "code",
   "execution_count": 24,
   "metadata": {
    "execution": {
     "iopub.execute_input": "2021-03-30T08:09:30.898Z",
     "iopub.status.busy": "2021-03-30T08:09:30.884Z",
     "iopub.status.idle": "2021-03-30T08:09:30.925Z",
     "shell.execute_reply": "2021-03-30T08:09:30.938Z"
    }
   },
   "outputs": [
    {
     "data": {
      "text/plain": [
       "array([[ 1., nan, nan,  4.,  3., nan,  0.,  2., nan, nan],\n",
       "       [ 2., nan,  3., nan, nan,  1., nan, nan,  4.,  0.],\n",
       "       [ 2., nan,  3.,  4.,  0., nan, nan, nan,  1., nan],\n",
       "       [nan, nan,  1.,  3., nan, nan,  0., nan,  2.,  4.],\n",
       "       [nan,  1., nan,  0., nan, nan,  2.,  4., nan,  3.],\n",
       "       [nan,  3.,  2., nan,  0.,  4.,  1., nan, nan, nan],\n",
       "       [nan,  1.,  2.,  3., nan,  0., nan,  4., nan, nan],\n",
       "       [ 0., nan, nan,  1.,  2.,  3., nan, nan, nan,  4.],\n",
       "       [ 4., nan,  0.,  1.,  3., nan, nan, nan,  2., nan],\n",
       "       [ 0., nan, nan, nan,  4.,  1.,  3., nan, nan,  2.],\n",
       "       [ 3., nan,  4., nan,  1.,  0.,  2., nan, nan, nan],\n",
       "       [ 1.,  0., nan,  3.,  4., nan, nan, nan,  2., nan],\n",
       "       [ 0.,  2.,  4.,  3., nan, nan, nan,  1., nan, nan],\n",
       "       [ 2., nan, nan,  1.,  0.,  4., nan, nan,  3., nan],\n",
       "       [ 2.,  0., nan,  4., nan, nan, nan,  3., nan,  1.]])"
      ]
     },
     "execution_count": 24,
     "metadata": {},
     "output_type": "execute_result"
    }
   ],
   "source": [
    "m = 15\n",
    "n = 10 \n",
    "k = 5\n",
    "phi = 0.9 \n",
    "sigma_0 = np.array(range(10))\n",
    "sigma = np.random.permutation(n)\n",
    "sample_top_k = mk.sample(m=m, n=n, k=k, phi=phi, s0=sigma_0)\n",
    "sample_top_k"
   ]
  },
  {
   "cell_type": "markdown",
   "metadata": {},
   "source": [
    "**Distance** In order to compare top-$k$ rankings, it is possible to use an extension of the classical Kendall's-$\\tau$ denoted as $p$-parametrized Kendall's-$\\tau$ distance (Fagin et al., 2003). \n",
    "\n",
    "In practice we can use it, chosing the $p$ parameter in $[0,1]$, as follows: "
   ]
  },
  {
   "cell_type": "code",
   "execution_count": 39,
   "metadata": {
    "execution": {
     "iopub.execute_input": "2021-03-30T08:09:50.234Z",
     "iopub.status.busy": "2021-03-30T08:09:50.219Z",
     "iopub.status.idle": "2021-03-30T07:54:21.656Z",
     "shell.execute_reply": "2021-03-30T07:54:22.521Z"
    }
   },
   "outputs": [
    {
     "data": {
      "text/plain": [
       "19"
      ]
     },
     "execution_count": 39,
     "metadata": {},
     "output_type": "execute_result"
    }
   ],
   "source": [
    "mk.p_distance(sample_top_k[0], sample_top_k[1], k=5, p=0)"
   ]
  },
  {
   "cell_type": "code",
   "execution_count": 40,
   "metadata": {
    "execution": {
     "iopub.execute_input": "2021-03-30T08:09:50.571Z",
     "iopub.status.busy": "2021-03-30T08:09:50.557Z",
     "iopub.status.idle": "2021-03-30T07:54:21.730Z",
     "shell.execute_reply": "2021-03-30T07:54:22.528Z"
    }
   },
   "outputs": [
    {
     "data": {
      "text/plain": [
       "31"
      ]
     },
     "execution_count": 40,
     "metadata": {},
     "output_type": "execute_result"
    }
   ],
   "source": [
    "mk.p_distance(sample_top_k[0], sample_top_k[1], k=5, p=1)"
   ]
  },
  {
   "cell_type": "markdown",
   "metadata": {},
   "source": [
    "**Expected distance** The expected value of Kendall's-$\\tau$ distance under the MM is given by: \n",
    "$$\\mathbb{E}[D] = \\frac{k \\cdot \\exp(-\\theta)}{1 - \\exp(-\\theta)} - \\sum_{j=n-k+1}^n\\frac{j \\cdot \\exp(-j \\theta)}{1 - \\exp(-j \\theta)}$$"
   ]
  },
  {
   "cell_type": "code",
   "execution_count": 41,
   "metadata": {
    "execution": {
     "iopub.execute_input": "2021-03-30T08:09:51.322Z",
     "iopub.status.busy": "2021-03-30T08:09:51.309Z",
     "iopub.status.idle": "2021-03-30T08:09:51.350Z",
     "shell.execute_reply": "2021-03-30T08:09:51.361Z"
    }
   },
   "outputs": [
    {
     "data": {
      "text/plain": [
       "2.4578024409695693"
      ]
     },
     "execution_count": 41,
     "metadata": {},
     "output_type": "execute_result"
    }
   ],
   "source": [
    "expected_dist = mk.expected_dist_top_k(n,k,theta_mm)\n",
    "expected_dist"
   ]
  },
  {
   "cell_type": "markdown",
   "metadata": {},
   "source": [
    "**Variance** The variance of Kendall's-$\\tau$ distance under the MM can be expressed as follows: \n",
    "$$\\mathbb{V}[D] = \\dfrac{ k \\cdot \\exp(-\\theta) }{ (1 - \\exp(-\\theta))^2 } - \\sum_{j=n-k+1}^n \\dfrac{ j^2\\exp(-j \\theta) }{ (1 - \\exp(-j \\theta))^2 }$$"
   ]
  },
  {
   "cell_type": "code",
   "execution_count": 29,
   "metadata": {
    "execution": {
     "iopub.execute_input": "2021-03-30T08:09:51.844Z",
     "iopub.status.busy": "2021-03-30T08:09:51.832Z",
     "iopub.status.idle": "2021-03-30T08:09:51.874Z",
     "shell.execute_reply": "2021-03-30T08:09:51.888Z"
    }
   },
   "outputs": [
    {
     "data": {
      "text/plain": [
       "8.391580684957216"
      ]
     },
     "execution_count": 29,
     "metadata": {},
     "output_type": "execute_result"
    }
   ],
   "source": [
    "variance_dist = mk.variance_dist_top_k(n,k,theta_mm)\n",
    "variance_dist"
   ]
  },
  {
   "cell_type": "markdown",
   "metadata": {},
   "source": [
    "# Generalized Mallows Model (GMM) for complete permutations"
   ]
  },
  {
   "cell_type": "markdown",
   "metadata": {},
   "source": [
    "The Generalized Mallows Model (GMM) is an extension of the Mallows Model, for which there are $n-1$ dispersion parameters $\\theta_j$ ($1 \\le j < n$), each affecting a particular position of the permutation.   \n",
    "Formally, the GMM under Kendall's-$\\tau$ distance is expressed as follows: \n",
    "\n",
    "$$p(\\sigma)=\\dfrac{\\exp(\\sum_{j=1}^{n-1}-\\theta_j V_j(\\sigma\\sigma_0^{-1}))}{\\psi(\\theta)}$$\n",
    "where $\\psi(\\theta) = \\prod_{j=1}^{n-1} \\psi_j(\\theta_j) = \\prod_{j=1}^{n-1} \\frac{1-\\exp(-\\theta_j(n-j+1))}{1 - \\exp(-\\theta_j)}$"
   ]
  },
  {
   "cell_type": "code",
   "execution_count": 30,
   "metadata": {
    "execution": {
     "iopub.execute_input": "2021-03-30T08:09:53.033Z",
     "iopub.status.busy": "2021-03-30T08:09:53.019Z",
     "iopub.status.idle": "2021-03-30T08:09:53.060Z",
     "shell.execute_reply": "2021-03-30T08:09:53.072Z"
    }
   },
   "outputs": [
    {
     "name": "stdout",
     "output_type": "stream",
     "text": [
      "0.00439275005307042\n"
     ]
    }
   ],
   "source": [
    "def prob_GMM(sigma, sigma_0, theta):\n",
    "    \n",
    "    n = len(sigma)\n",
    "        \n",
    "    sigma_0_inv = mk.inverse(sigma_0)\n",
    "    \n",
    "    V = mk.ranking_to_v(mk.compose(sigma, sigma_0_inv))\n",
    "    \n",
    "    psi = np.prod(np.array([(1 - np.exp(( - n + j ) * theta[j]))/(1 - np.exp(-theta[j])) for j in range(n-1)]))\n",
    "    \n",
    "    return np.exp( np.sum ( [ -theta[j] * V[j] for j in range(n-1) ] ) ) / psi \n",
    "    \n",
    "    \n",
    "sigma = np.array([3,1,2,0,4])\n",
    "sigma_0 = np.array(range(5))\n",
    "theta = [0.5,0.2,0.6,0.3]\n",
    "\n",
    "print(prob_GMM(sigma, sigma_0, theta))"
   ]
  },
  {
   "cell_type": "markdown",
   "metadata": {},
   "source": [
    "**Sampling** It is also possible to sample the Generalized Mallows Models (GMM), using the same process as for the MM only with a change in the probability of $V_j$ as follows:\n",
    "\n",
    "$$p(V_j(\\sigma\\sigma_0^{-1}) = r) = \\frac{\\exp(-\\theta r)}{\\psi_j(\\theta)}, \\; \\forall r \\in {0, \\dotsc, n-j}$$\n",
    "\n",
    "In the package it is quite similar as for the classical Mallows Models, only that the dispersion parameter will be given as a list. "
   ]
  },
  {
   "cell_type": "code",
   "execution_count": 32,
   "metadata": {
    "execution": {
     "iopub.execute_input": "2021-03-30T08:10:14.924Z",
     "iopub.status.busy": "2021-03-30T08:10:14.909Z",
     "iopub.status.idle": "2021-03-30T07:54:22.023Z",
     "shell.execute_reply": "2021-03-30T07:54:22.560Z"
    }
   },
   "outputs": [],
   "source": [
    "m = 4000\n",
    "n = 5\n",
    "theta_gmm = [0.5,0.2,0.6,0.3]\n",
    "identity = np.array(range(n))\n",
    "sample_gmm = np.array(mk.sample(m,theta = theta_gmm))"
   ]
  },
  {
   "cell_type": "markdown",
   "metadata": {},
   "source": [
    "The expected value of each term $V_j(\\sigma)$, where $\\sigma$ is a random Mallows permutation, is expressed as follows:\n",
    "$$ \\mathbb{E}[V_j] = \\frac{\\exp(-\\theta_j)}{1 - \\exp(-\\theta_j)} - \\frac{(n-j+1)\\exp(-\\theta_j(n-j+1))}{1 - \\exp(-\\theta_j(n-j+1))}, \\;\\forall j \\in \\{1, \\dotsc, n-1\\} $$\n",
    "And the values are computed as follows:"
   ]
  },
  {
   "cell_type": "code",
   "execution_count": 33,
   "metadata": {
    "execution": {
     "iopub.execute_input": "2021-03-30T07:54:22.057Z",
     "iopub.status.busy": "2021-03-30T07:54:22.044Z",
     "iopub.status.idle": "2021-03-30T07:54:22.085Z",
     "shell.execute_reply": "2021-03-30T07:54:22.567Z"
    }
   },
   "outputs": [
    {
     "name": "stdout",
     "output_type": "stream",
     "text": [
      "[1.09436663 1.25279068 0.62226834 0.42555748]\n"
     ]
    }
   ],
   "source": [
    "expected_v_gmm = mk.expected_v(n, theta_gmm)\n",
    "print(expected_v_gmm)"
   ]
  },
  {
   "cell_type": "markdown",
   "metadata": {},
   "source": [
    "The expected value of Kendall's-$\\tau$ distance under the GMM is then given by: \n",
    "$$\\mathbb{E}[D] = \\sum_{j=1}^{n-1} \\mathbb{E}[V_j]$$"
   ]
  },
  {
   "cell_type": "code",
   "execution_count": 34,
   "metadata": {
    "execution": {
     "iopub.execute_input": "2021-03-30T07:54:22.119Z",
     "iopub.status.busy": "2021-03-30T07:54:22.106Z",
     "iopub.status.idle": "2021-03-30T07:54:22.147Z",
     "shell.execute_reply": "2021-03-30T07:54:22.575Z"
    }
   },
   "outputs": [
    {
     "name": "stdout",
     "output_type": "stream",
     "text": [
      "3.394983134634349\n"
     ]
    }
   ],
   "source": [
    "expected_dist_gmm = np.sum(expected_v_gmm)\n",
    "print(expected_dist_gmm)"
   ]
  },
  {
   "cell_type": "markdown",
   "metadata": {},
   "source": [
    "The variance of each term $V_j(\\sigma)$ under the GMM can be expressed as follows: \n",
    "$$\\mathbb{V}[V_j] = \\dfrac{ \\exp(-\\theta_j) }{ (1 - \\exp(-\\theta_j))^2 } - \\sum_{j=1}^n \\frac{ (n-j+1)^2 \\exp(-(n-j+1) \\theta_j) }{ (1 - \\exp(-(n-j+1) \\theta_j))^2 }, \\;\\forall j \\in \\{1, \\dotsc, n-1\\} $$"
   ]
  },
  {
   "cell_type": "code",
   "execution_count": 35,
   "metadata": {
    "execution": {
     "iopub.execute_input": "2021-03-30T07:54:22.180Z",
     "iopub.status.busy": "2021-03-30T07:54:22.169Z",
     "iopub.status.idle": "2021-03-30T07:54:22.209Z",
     "shell.execute_reply": "2021-03-30T07:54:22.582Z"
    }
   },
   "outputs": [
    {
     "name": "stdout",
     "output_type": "stream",
     "text": [
      "[1.48213789 1.20855956 0.56066479 0.24445831]\n"
     ]
    }
   ],
   "source": [
    "variance_v_gmm = mk.variance_v(n, theta_gmm)\n",
    "print(variance_v_gmm)"
   ]
  },
  {
   "cell_type": "markdown",
   "metadata": {},
   "source": [
    "The expected value of Kendall's-$\\tau$ distance under the GMM is then given by: \n",
    "$$\\mathbb{V}[D] = \\sum_{j=1}^{n-1} \\mathbb{V}[V_j]$$"
   ]
  },
  {
   "cell_type": "code",
   "execution_count": 36,
   "metadata": {
    "execution": {
     "iopub.execute_input": "2021-03-30T07:54:22.246Z",
     "iopub.status.busy": "2021-03-30T07:54:22.231Z",
     "iopub.status.idle": "2021-03-30T07:54:22.276Z",
     "shell.execute_reply": "2021-03-30T07:54:22.589Z"
    }
   },
   "outputs": [
    {
     "name": "stdout",
     "output_type": "stream",
     "text": [
      "3.495820543795291\n"
     ]
    }
   ],
   "source": [
    "variance_dist_gmm = np.sum(variance_v_gmm)\n",
    "print(variance_dist_gmm)"
   ]
  },
  {
   "cell_type": "markdown",
   "metadata": {},
   "source": [
    "**Learning** An approximation to the MLE for $\\theta$ and $\\sigma_0$ given a sample of i.i.d Mallows permutations is as follows: "
   ]
  },
  {
   "cell_type": "code",
   "execution_count": 37,
   "metadata": {
    "execution": {
     "iopub.execute_input": "2021-03-30T07:54:22.309Z",
     "iopub.status.busy": "2021-03-30T07:54:22.296Z",
     "iopub.status.idle": "2021-03-30T07:54:22.338Z",
     "shell.execute_reply": "2021-03-30T07:54:22.595Z"
    }
   },
   "outputs": [
    {
     "name": "stdout",
     "output_type": "stream",
     "text": [
      "[0 2 1 3 4]\n",
      "[0.5026125991296644, 0.19755236580605012, 0.5991411097607937, 0.3423036569708836]\n"
     ]
    }
   ],
   "source": [
    "sigma_borda, theta_gmm_mle = mk.fit_gmm(sample_gmm)\n",
    "print(sigma_borda)\n",
    "print(theta_gmm_mle)"
   ]
  },
  {
   "cell_type": "code",
   "execution_count": null,
   "metadata": {},
   "outputs": [],
   "source": []
  }
 ],
 "metadata": {
  "kernelspec": {
   "display_name": "Python 3",
   "language": "python",
   "name": "python3"
  },
  "language_info": {
   "codemirror_mode": {
    "name": "ipython",
    "version": 3
   },
   "file_extension": ".py",
   "mimetype": "text/x-python",
   "name": "python",
   "nbconvert_exporter": "python",
   "pygments_lexer": "ipython3",
   "version": "3.7.6"
  },
  "nteract": {
   "version": "0.28.0"
  }
 },
 "nbformat": 4,
 "nbformat_minor": 4
}
