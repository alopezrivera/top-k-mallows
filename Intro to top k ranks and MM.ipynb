{
  "cells": [
    {
      "cell_type": "markdown",
      "source": [
        "# Mallows Kendall\n",
        "### A python package to for the Mallows model with top-$k$ and complete rankings \n",
        "**By Ahmed Boujaada, Fabien Collas and Ekhine Irurozki **\n",
        "\n",
        "We present methods for working with the Mallows Model (MM), the best-known distribution for permutations. Also, we consider operations for partial rankings (top-$k$ rankings) as well as complete rankings. Cite as \n",
        "\n",
        "> Fabien Collas and Ekhine Irurozki (2020). Concentric mixtures of Mallows models for top-k rankings: sampling and identifiability. In ArXiv."
      ],
      "metadata": {
        "nteract": {
          "transient": {
            "deleting": false
          }
        }
      }
    },
    {
      "cell_type": "code",
      "source": [
        "import os \n",
        "import mallows_kendall as mk\n",
        "import numpy as np \n",
        "import scipy as sp\n",
        "import seaborn as sns\n",
        "import matplotlib.pyplot as plt\n",
        "import pandas as pd \n"
      ],
      "outputs": [],
      "execution_count": 1,
      "metadata": {
        "execution": {
          "iopub.execute_input": "2021-04-29T08:07:30.463Z",
          "iopub.status.busy": "2021-04-29T08:07:30.449Z",
          "iopub.status.idle": "2021-04-29T08:07:30.671Z",
          "shell.execute_reply": "2021-04-29T08:07:33.212Z"
        }
      }
    },
    {
      "cell_type": "markdown",
      "source": [
        "# Preliminaries"
      ],
      "metadata": {}
    },
    {
      "cell_type": "markdown",
      "source": [
        "## Permutations"
      ],
      "metadata": {}
    },
    {
      "cell_type": "markdown",
      "source": [
        "**Generation** The most basic function consists in generating a permutation $\\sigma$ from $S_n$, the set of all permutations. The permutations are coded as vectors of the first $n$ natural numbers (beginning with 0 here in Python) where each item appears once and once only.   \n",
        "Complete permutations can be defined here as `ndarrays` with dtype `int` or `list` of integers as well.  \n",
        "They can be defined by hand as follows:"
      ],
      "metadata": {}
    },
    {
      "cell_type": "code",
      "source": [
        "perm1 = np.array([3,1,2,0,4])\n",
        "perm1"
      ],
      "outputs": [
        {
          "output_type": "execute_result",
          "execution_count": 2,
          "data": {
            "text/plain": "array([3, 1, 2, 0, 4])"
          },
          "metadata": {}
        }
      ],
      "execution_count": 2,
      "metadata": {
        "execution": {
          "iopub.execute_input": "2021-04-29T08:07:30.717Z",
          "iopub.status.busy": "2021-04-29T08:07:30.699Z",
          "iopub.status.idle": "2021-04-29T08:07:30.753Z",
          "shell.execute_reply": "2021-04-29T08:07:33.220Z"
        }
      }
    },
    {
      "cell_type": "markdown",
      "source": [
        "They can also be randomly generated as follows ($n$ being the length of the permutation): "
      ],
      "metadata": {}
    },
    {
      "cell_type": "code",
      "source": [
        "n=5\n",
        "perm2 = np.random.permutation(n)\n",
        "perm2"
      ],
      "outputs": [
        {
          "output_type": "execute_result",
          "execution_count": 3,
          "data": {
            "text/plain": "array([4, 1, 2, 0, 3])"
          },
          "metadata": {}
        }
      ],
      "execution_count": 3,
      "metadata": {
        "execution": {
          "iopub.execute_input": "2021-04-29T08:07:30.797Z",
          "iopub.status.busy": "2021-04-29T08:07:30.781Z",
          "iopub.status.idle": "2021-04-29T08:07:30.832Z",
          "shell.execute_reply": "2021-04-29T08:07:33.228Z"
        }
      }
    },
    {
      "cell_type": "markdown",
      "source": [
        "**Operations** Two permutations can be composed and the result is a permutation. This operation is not commutative in general."
      ],
      "metadata": {}
    },
    {
      "cell_type": "code",
      "source": [
        "mk.compose(perm1, perm2)"
      ],
      "outputs": [
        {
          "output_type": "execute_result",
          "execution_count": 4,
          "data": {
            "text/plain": "array([4, 1, 2, 3, 0])"
          },
          "metadata": {}
        }
      ],
      "execution_count": 4,
      "metadata": {
        "execution": {
          "iopub.execute_input": "2021-04-29T08:07:30.874Z",
          "iopub.status.busy": "2021-04-29T08:07:30.857Z",
          "iopub.status.idle": "2021-04-29T08:07:30.912Z",
          "shell.execute_reply": "2021-04-29T08:07:33.236Z"
        }
      }
    },
    {
      "cell_type": "markdown",
      "source": [
        "The inverse of a permutation can also be obtained with:"
      ],
      "metadata": {}
    },
    {
      "cell_type": "code",
      "source": [
        "mk.inverse(perm1)"
      ],
      "outputs": [
        {
          "output_type": "execute_result",
          "execution_count": 5,
          "data": {
            "text/plain": "array([3, 1, 2, 0, 4])"
          },
          "metadata": {}
        }
      ],
      "execution_count": 5,
      "metadata": {
        "execution": {
          "iopub.execute_input": "2021-04-29T08:07:30.954Z",
          "iopub.status.busy": "2021-04-29T08:07:30.937Z",
          "iopub.status.idle": "2021-04-29T08:07:30.990Z",
          "shell.execute_reply": "2021-04-29T08:07:33.244Z"
        }
      }
    },
    {
      "cell_type": "markdown",
      "source": [
        "## Distances"
      ],
      "metadata": {}
    },
    {
      "cell_type": "markdown",
      "source": [
        "The Kendall's-$\\tau$ distance $d(\\sigma, \\pi)$ counts the number of pairwise disagreements beetween $\\sigma$ and $\\pi$, i.e., the number of pairs of positions in which the items are in a particular order in $\\sigma$, and the reverse order in $\\pi$. The Kendall's-$\\tau$ distance between two permutations can be computed as follows: "
      ],
      "metadata": {}
    },
    {
      "cell_type": "code",
      "source": [
        "mk.distance(perm1, perm2)"
      ],
      "outputs": [
        {
          "output_type": "execute_result",
          "execution_count": 6,
          "data": {
            "text/plain": "1"
          },
          "metadata": {}
        }
      ],
      "execution_count": 6,
      "metadata": {
        "execution": {
          "iopub.execute_input": "2021-04-29T08:07:31.031Z",
          "iopub.status.busy": "2021-04-29T08:07:31.016Z",
          "iopub.status.idle": "2021-04-29T08:07:31.069Z",
          "shell.execute_reply": "2021-04-29T08:07:33.252Z"
        }
      }
    },
    {
      "cell_type": "markdown",
      "source": [
        "If only one permutation is given in input, it will be assumed that the second permutation is the identity permutation, $e = (1, 2, \\dotsc, n)$."
      ],
      "metadata": {}
    },
    {
      "cell_type": "code",
      "source": [
        "mk.distance(perm1)"
      ],
      "outputs": [
        {
          "output_type": "execute_result",
          "execution_count": 7,
          "data": {
            "text/plain": "5"
          },
          "metadata": {}
        }
      ],
      "execution_count": 7,
      "metadata": {
        "execution": {
          "iopub.execute_input": "2021-04-29T08:07:31.112Z",
          "iopub.status.busy": "2021-04-29T08:07:31.095Z",
          "iopub.status.idle": "2021-04-29T08:07:31.149Z",
          "shell.execute_reply": "2021-04-29T08:07:33.263Z"
        }
      }
    },
    {
      "cell_type": "markdown",
      "source": [
        "The maximum value of the kendall's-$\\tau$ distance between two permutation of length $n$ is $\\frac{n(n-1)}{2}$. It is possible to get this value using the following function: "
      ],
      "metadata": {}
    },
    {
      "cell_type": "code",
      "source": [
        "mk.max_dist(n)"
      ],
      "outputs": [
        {
          "output_type": "execute_result",
          "execution_count": 8,
          "data": {
            "text/plain": "10"
          },
          "metadata": {}
        }
      ],
      "execution_count": 8,
      "metadata": {
        "execution": {
          "iopub.execute_input": "2021-04-29T08:07:31.190Z",
          "iopub.status.busy": "2021-04-29T08:07:31.174Z",
          "iopub.status.idle": "2021-04-29T08:07:31.225Z",
          "shell.execute_reply": "2021-04-29T08:07:33.272Z"
        }
      }
    },
    {
      "cell_type": "markdown",
      "source": [
        "For each $\\sigma \\in S_n$ there exists a unique vector, called inversion vector of $\\sigma$ with regards to the Kendall's-$\\tau$ distance, denoted $V(\\sigma) = (V_1(\\sigma), \\dotsc, V_{n-1}(\\sigma))$ and such that $d(\\sigma) = \\sum_{j=1}^{n-1}V_j(\\sigma)$.   \n",
        "The $j^{th}$ element $V_j(\\sigma)$ is given by: $V_j(\\sigma) = \\sum\\limits_{i=j+1}^{n}\\mathbb{1}_{\\sigma(i) < \\sigma(j)}$, $\\forall j \\in \\{1, \\dotsc, n-1\\}$. It follows that $0 \\le V_j(\\sigma) \\le n-j$. \n",
        "\n",
        "Finally there is a bijection between each $\\sigma \\in S_n$ and each possible $V(\\sigma)$ inversion vector. In the package the conversion from one form to another is done using the two following functions:  \n",
        "\n",
        "- From $\\sigma$ to $V(\\sigma)$ (here $V$ is of the same length $n$ as the permutation , thus the final $n^{th}$ element of $V$ will always equal $0$) :"
      ],
      "metadata": {}
    },
    {
      "cell_type": "code",
      "source": [
        "V_perm1 = mk.ranking_to_v(perm1)\n",
        "V_perm1"
      ],
      "outputs": [
        {
          "output_type": "execute_result",
          "execution_count": 9,
          "data": {
            "text/plain": "array([3, 1, 1, 0, 0])"
          },
          "metadata": {}
        }
      ],
      "execution_count": 9,
      "metadata": {
        "execution": {
          "iopub.execute_input": "2021-04-29T08:07:31.268Z",
          "iopub.status.busy": "2021-04-29T08:07:31.251Z",
          "iopub.status.idle": "2021-04-29T08:07:31.303Z",
          "shell.execute_reply": "2021-04-29T08:07:33.282Z"
        }
      }
    },
    {
      "cell_type": "markdown",
      "source": [
        "- From $V(\\sigma)$ to $\\sigma$ :"
      ],
      "metadata": {}
    },
    {
      "cell_type": "code",
      "source": [
        "mk.v_to_ranking(V_perm1, n)"
      ],
      "outputs": [
        {
          "output_type": "execute_result",
          "execution_count": 10,
          "data": {
            "text/plain": "array([3., 1., 2., 0., 4.])"
          },
          "metadata": {}
        }
      ],
      "execution_count": 10,
      "metadata": {
        "execution": {
          "iopub.execute_input": "2021-04-29T08:07:31.346Z",
          "iopub.status.busy": "2021-04-29T08:07:31.329Z",
          "iopub.status.idle": "2021-04-29T08:07:31.381Z",
          "shell.execute_reply": "2021-04-29T08:07:33.291Z"
        }
      }
    },
    {
      "cell_type": "markdown",
      "source": [
        "This package also allows to sample a permutation with a given number of inversions, i.e., at a given distance, where all the posible permutations have the same probability of being generated"
      ],
      "metadata": {
        "nteract": {
          "transient": {
            "deleting": false
          }
        }
      }
    },
    {
      "cell_type": "code",
      "source": [
        "mk.random_perm_at_dist(n, 2, mk.num_perms_at_dist(n))\n"
      ],
      "outputs": [
        {
          "output_type": "execute_result",
          "execution_count": 11,
          "data": {
            "text/plain": "array([0., 2., 3., 1., 4.])"
          },
          "metadata": {}
        }
      ],
      "execution_count": 11,
      "metadata": {
        "execution": {
          "iopub.execute_input": "2021-04-29T08:07:31.423Z",
          "iopub.status.busy": "2021-04-29T08:07:31.405Z",
          "iopub.status.idle": "2021-04-29T08:07:31.456Z",
          "shell.execute_reply": "2021-04-29T08:07:33.299Z"
        },
        "jupyter": {
          "outputs_hidden": false,
          "source_hidden": false
        },
        "nteract": {
          "transient": {
            "deleting": false
          }
        }
      }
    },
    {
      "cell_type": "markdown",
      "source": [
        "*note*: We point out that this notation is taken from Meilǎ, M., Phadnis, K., Patterson, A., & Bilmes, J. (2007). Consensus ranking under the exponential model. In *Proceedings of the 23rd Conference on Uncertainty in Artificial Intelligence, UAI 2007* (pp. 285–294). Note thst the definition of the inversion vector difers from the one in the original paper of MM Fligner, M. A., & Verducci, J. S. (1986). Distance based ranking models. Journal of the Royal Statistical Society, 48(3), 359–369.\n",
        "This different versions imply different expressions for the MM which will affect the capability of the MM to be used for partial permutations.\n",
        "\n",
        "# Mallows Model (MM) for complete permutations"
      ],
      "metadata": {}
    },
    {
      "cell_type": "markdown",
      "source": [
        "The Mallows Model (MM) is an exponential family of probability models for permutation data. We consider $\\sigma$ to be a ranking. Formally, the MM using the Kendall's-$\\tau$ distance is expressed as follows: \n",
        "$$p(\\sigma)=\\dfrac{\\exp(-\\theta d(\\sigma \\sigma_0^{-1}))}{\\psi(\\theta)}$$ \n",
        "where $\\psi(\\theta) =  \\prod_{\\substack{j=1}}^{n-1} \\frac{1-\\exp(-\\theta(n-j+1))}{1 - \\exp(-\\theta)}$.  \n",
        "$\\sigma_0$ represents the central permutation and is the mode of the distribution iff the dispersion parameter $\\theta > 0$. In this case, the greater the distance of a permutation to $\\sigma_0$ the lower is its probability (it decreases exponentially). The dispersion parameter $\\theta$  controls the speed of this fall.\n",
        "\n"
      ],
      "metadata": {}
    },
    {
      "cell_type": "code",
      "source": [
        "def prob_MM(sigma, sigma_0, theta): \n",
        "    \n",
        "    sigma_0_inv = mk.inverse(sigma_0)\n",
        "    \n",
        "    psi = np.prod(np.array([(1 - np.exp(( - n + j ) * theta))/(1 - np.exp(-theta)) for j in range(n-1)]))\n",
        "    \n",
        "    dist = mk.distance( mk.compose(sigma, sigma_0_inv) )\n",
        "    \n",
        "    return np.exp( - theta *  dist ) / psi\n",
        "    \n",
        "n = 5    \n",
        "sigma = np.array([3,1,2,0,4])\n",
        "sigma_0 = np.array(range(5))\n",
        "theta = 0.1\n",
        "\n",
        "print(prob_MM(sigma, sigma_0, theta))"
      ],
      "outputs": [
        {
          "output_type": "stream",
          "name": "stdout",
          "text": [
            "0.008161793281714687\n"
          ]
        }
      ],
      "execution_count": 12,
      "metadata": {
        "execution": {
          "iopub.execute_input": "2021-04-29T08:07:31.498Z",
          "iopub.status.busy": "2021-04-29T08:07:31.481Z",
          "iopub.status.idle": "2021-04-29T08:07:31.534Z",
          "shell.execute_reply": "2021-04-29T08:07:33.308Z"
        }
      }
    },
    {
      "cell_type": "markdown",
      "source": [
        "**Sampling** This package includes a sampler based on the factorization of the Kendall's-$\\tau$ distance. In the later sections we will also present how this can be adapted to top-$k$ rankings. This differs to the classical sampling, usually done using the Repeated Insertion Model (RIM) and which can not be extended to top-$k$ rankings.\n"
      ],
      "metadata": {}
    },
    {
      "cell_type": "code",
      "source": [
        "mk.sample(m=4,n=5,theta=1.5)"
      ],
      "outputs": [
        {
          "output_type": "execute_result",
          "execution_count": 13,
          "data": {
            "text/plain": "array([[0., 1., 2., 4., 3.],\n       [0., 1., 3., 2., 4.],\n       [0., 1., 2., 3., 4.],\n       [0., 3., 2., 1., 4.]])"
          },
          "metadata": {}
        }
      ],
      "execution_count": 13,
      "metadata": {
        "execution": {
          "iopub.execute_input": "2021-04-29T08:07:31.575Z",
          "iopub.status.busy": "2021-04-29T08:07:31.558Z",
          "iopub.status.idle": "2021-04-29T08:07:31.610Z",
          "shell.execute_reply": "2021-04-29T08:07:33.316Z"
        },
        "jupyter": {
          "outputs_hidden": false,
          "source_hidden": false
        },
        "nteract": {
          "transient": {
            "deleting": false
          }
        }
      }
    },
    {
      "cell_type": "markdown",
      "source": [
        "Note that in the package the sampling functions generates the samples considering $\\sigma_0 = e$, identity permutation by default. But any other central permutation can be given as a parameter.  \n",
        "In practice, we can draw a sample from a MM as follows:"
      ],
      "metadata": {}
    },
    {
      "cell_type": "code",
      "source": [
        "mk.sample(m=4, n=5, theta=1.5, s0=np.array([4,3,2,1,0]))"
      ],
      "outputs": [
        {
          "output_type": "execute_result",
          "execution_count": 14,
          "data": {
            "text/plain": "array([[4., 3., 1., 0., 2.],\n       [4., 3., 2., 1., 0.],\n       [4., 3., 2., 0., 1.],\n       [3., 4., 2., 1., 0.]])"
          },
          "metadata": {}
        }
      ],
      "execution_count": 14,
      "metadata": {
        "execution": {
          "iopub.execute_input": "2021-04-29T08:07:31.648Z",
          "iopub.status.busy": "2021-04-29T08:07:31.632Z",
          "iopub.status.idle": "2021-04-29T08:07:31.682Z",
          "shell.execute_reply": "2021-04-29T08:07:33.324Z"
        }
      }
    },
    {
      "cell_type": "markdown",
      "source": [
        "Usually, the MM is given with the following equivalent expression\n",
        "$$p(\\sigma) \\propto \\phi^{d(\\sigma,\\sigma_0)},$$\n",
        "where $\\phi^{d(\\sigma,\\sigma_0)}=\\exp(-\\theta d(\\sigma,\\sigma_0))$ and \n",
        "for which the dispersion parameter is denoted as $\\phi\\in [0,1]$. We can relate the two dispersion parameters, $\\theta$ and $\\phi$, of the two expressions as  $\\phi=-\\log(\\theta)$. In this package, we can use also this second formulation by specifying parameter `phi` instead of `theta`. This functionallity holds for most funstions. The sampling, for example, is done then as follows:"
      ],
      "metadata": {
        "nteract": {
          "transient": {
            "deleting": false
          }
        }
      }
    },
    {
      "cell_type": "code",
      "source": [
        "mk.sample(m=4,n=5,phi=.5)"
      ],
      "outputs": [
        {
          "output_type": "execute_result",
          "execution_count": 15,
          "data": {
            "text/plain": "array([[3., 1., 4., 0., 2.],\n       [0., 1., 4., 2., 3.],\n       [1., 0., 2., 4., 3.],\n       [0., 3., 2., 4., 1.]])"
          },
          "metadata": {}
        }
      ],
      "execution_count": 15,
      "metadata": {
        "execution": {
          "iopub.execute_input": "2021-04-29T08:07:31.725Z",
          "iopub.status.busy": "2021-04-29T08:07:31.709Z",
          "iopub.status.idle": "2021-04-29T08:07:31.759Z",
          "shell.execute_reply": "2021-04-29T08:07:33.332Z"
        },
        "jupyter": {
          "outputs_hidden": false,
          "source_hidden": false
        },
        "nteract": {
          "transient": {
            "deleting": false
          }
        }
      }
    },
    {
      "cell_type": "markdown",
      "source": [
        "and the  trasformation between the two is as follows"
      ],
      "metadata": {
        "nteract": {
          "transient": {
            "deleting": false
          }
        }
      }
    },
    {
      "cell_type": "code",
      "source": [
        "mk.theta_to_phi(0.7), mk.phi_to_theta(0.7)"
      ],
      "outputs": [
        {
          "output_type": "execute_result",
          "execution_count": 16,
          "data": {
            "text/plain": "(0.4965853037914095, 0.35667494393873245)"
          },
          "metadata": {}
        }
      ],
      "execution_count": 16,
      "metadata": {
        "execution": {
          "iopub.execute_input": "2021-04-29T08:07:31.801Z",
          "iopub.status.busy": "2021-04-29T08:07:31.785Z",
          "iopub.status.idle": "2021-04-29T08:07:31.834Z",
          "shell.execute_reply": "2021-04-29T08:07:33.340Z"
        },
        "jupyter": {
          "outputs_hidden": false,
          "source_hidden": false
        },
        "nteract": {
          "transient": {
            "deleting": false
          }
        }
      }
    },
    {
      "cell_type": "markdown",
      "source": [
        "**Expected distance** The expected value of Kendall's-$\\tau$ distance under the MM is given by: \n",
        "$$\\mathbb{E}[D] = \\frac{n \\cdot \\exp(-\\theta)}{1 - \\exp(-\\theta)} - \\sum_{j=1}^n\\frac{j \\cdot \\exp(-j \\theta)}{1 - \\exp(-j \\theta)}$$"
      ],
      "metadata": {}
    },
    {
      "cell_type": "code",
      "source": [
        "theta_mm = 0.7\n",
        "sample_mm = mk.sample(m=4,n=5,theta=1.5)\n",
        "expected_dist = mk.expected_dist_mm(n, theta_mm)\n",
        "expected_dist"
      ],
      "outputs": [
        {
          "output_type": "execute_result",
          "execution_count": 17,
          "data": {
            "text/plain": "2.4578024409695693"
          },
          "metadata": {}
        }
      ],
      "execution_count": 17,
      "metadata": {
        "execution": {
          "iopub.execute_input": "2021-04-29T08:07:31.876Z",
          "iopub.status.busy": "2021-04-29T08:07:31.859Z",
          "iopub.status.idle": "2021-04-29T08:07:31.909Z",
          "shell.execute_reply": "2021-04-29T08:07:33.349Z"
        }
      }
    },
    {
      "cell_type": "markdown",
      "source": [
        "**Variance** The variance of Kendall's-$\\tau$ distance under the MM can be expressed as follows: \n",
        "$$\\mathbb{V}[D] = \\dfrac{ n \\cdot \\exp(-\\theta) }{ (1 - \\exp(-\\theta))^2 } - \\sum_{j=1}^n \\dfrac{ j^2\\exp(-j \\theta) }{ (1 - \\exp(-j \\theta))^2 }$$"
      ],
      "metadata": {}
    },
    {
      "cell_type": "code",
      "source": [
        "variance_dist = mk.variance_dist_mm(n, theta_mm)\n",
        "variance_dist"
      ],
      "outputs": [
        {
          "output_type": "execute_result",
          "execution_count": 18,
          "data": {
            "text/plain": "2.763301117320907"
          },
          "metadata": {}
        }
      ],
      "execution_count": 18,
      "metadata": {
        "execution": {
          "iopub.execute_input": "2021-04-29T08:07:31.950Z",
          "iopub.status.busy": "2021-04-29T08:07:31.934Z",
          "iopub.status.idle": "2021-04-29T08:07:31.985Z",
          "shell.execute_reply": "2021-04-29T08:07:33.357Z"
        }
      }
    },
    {
      "cell_type": "markdown",
      "source": [
        "**Learning** Then Borda algorithm allows to approximate the central permutation:  "
      ],
      "metadata": {}
    },
    {
      "cell_type": "code",
      "source": [
        "mk.borda(sample_mm)"
      ],
      "outputs": [
        {
          "output_type": "execute_result",
          "execution_count": 19,
          "data": {
            "text/plain": "array([0, 1, 3, 2, 4])"
          },
          "metadata": {}
        }
      ],
      "execution_count": 19,
      "metadata": {
        "execution": {
          "iopub.execute_input": "2021-04-29T08:07:32.026Z",
          "iopub.status.busy": "2021-04-29T08:07:32.010Z",
          "iopub.status.idle": "2021-04-29T08:07:32.062Z",
          "shell.execute_reply": "2021-04-29T08:07:33.366Z"
        }
      }
    },
    {
      "cell_type": "markdown",
      "source": [
        "The function `fit_mm` returns an approximation to the MLE of the parameters $\\sigma_0$ and $\\theta$. The consensus $\\sigma_0$ is approximated with the well known Borda count algorithm. "
      ],
      "metadata": {}
    },
    {
      "cell_type": "code",
      "source": [
        "sigma_borda, phi_mm_mle = mk.fit_mm(sample_mm)\n",
        "print(sigma_borda)\n",
        "print(phi_mm_mle)"
      ],
      "outputs": [
        {
          "output_type": "stream",
          "name": "stdout",
          "text": [
            "[0 1 3 2 4]\n",
            "0.2236020440937532\n"
          ]
        }
      ],
      "execution_count": 20,
      "metadata": {
        "execution": {
          "iopub.execute_input": "2021-04-29T08:07:32.100Z",
          "iopub.status.busy": "2021-04-29T08:07:32.084Z",
          "iopub.status.idle": "2021-04-29T08:07:32.134Z",
          "shell.execute_reply": "2021-04-29T08:07:33.374Z"
        }
      }
    },
    {
      "cell_type": "markdown",
      "source": [
        "MM is also often defined as: $$p(\\sigma)=\\dfrac{\\phi^{d(\\sigma \\sigma_0^{-1})}}{\\prod_{\\substack{j=1}}^{n-1} \\frac{1-\\phi^{(n-j+1)}}{1 - \\phi}}$$ which implies that $\\phi = \\exp(-\\theta)$. The next function allows to obtain $\\theta$ given $\\phi$.\n",
        "\n",
        "*Remark:* $\\phi$ is in $[0,1]$ here."
      ],
      "metadata": {}
    },
    {
      "cell_type": "code",
      "source": [
        "theta_mm_mle = mk.phi_to_theta(phi_mm_mle)\n",
        "theta_mm_mle"
      ],
      "outputs": [
        {
          "output_type": "execute_result",
          "execution_count": 21,
          "data": {
            "text/plain": "1.4978873959998962"
          },
          "metadata": {}
        }
      ],
      "execution_count": 21,
      "metadata": {
        "execution": {
          "iopub.execute_input": "2021-04-29T08:07:32.179Z",
          "iopub.status.busy": "2021-04-29T08:07:32.160Z",
          "iopub.status.idle": "2021-04-29T08:07:32.213Z",
          "shell.execute_reply": "2021-04-29T08:07:33.383Z"
        }
      }
    },
    {
      "cell_type": "markdown",
      "source": [
        "# Mallows Model for Top-$k$ rankings"
      ],
      "metadata": {}
    },
    {
      "cell_type": "markdown",
      "source": [
        "**Definition** A top-$k$ ranking ($k \\le n$) $\\sigma$ is a ranking $\\sigma = (\\sigma(1), \\sigma(2), \\dotsc, \\sigma(n))$ for which only the first $k$ ranks  are known. Hence ranks of items $i$ such that $\\sigma(i) \\le k$.\n",
        "\n",
        "An example of top-5 ranking (with $n=10$) with the package would be:"
      ],
      "metadata": {}
    },
    {
      "cell_type": "code",
      "source": [
        "alpha = np.array([ 4.,  0., np.NaN, 1., np.NaN, 3., np.NaN, 2., np.NaN, np.NaN])\n",
        "alpha"
      ],
      "outputs": [
        {
          "output_type": "execute_result",
          "execution_count": 22,
          "data": {
            "text/plain": "array([ 4.,  0., nan,  1., nan,  3., nan,  2., nan, nan])"
          },
          "metadata": {}
        }
      ],
      "execution_count": 22,
      "metadata": {
        "execution": {
          "iopub.execute_input": "2021-04-29T08:07:32.254Z",
          "iopub.status.busy": "2021-04-29T08:07:32.238Z",
          "iopub.status.idle": "2021-04-29T08:07:32.290Z",
          "shell.execute_reply": "2021-04-29T08:07:33.391Z"
        }
      }
    },
    {
      "cell_type": "markdown",
      "source": [
        "**Sampling** In this part the sampling of the top-$k$ rankings is discussed.  \n",
        "Perhaps the most natural idea to generate top-$k$ rankings would be to generate the full rankings, using the Repeated Insertion Model for example, and to cut these obtained permutations after position $k$. This is possible, yet it seems computationally non-optimal with a complexity of $O(n^2)$.    \n",
        "\n",
        "Here we adapt the methods of previous sections to top-$k$ rankings. This method is based on sampling partially the inversion vectors. "
      ],
      "metadata": {}
    },
    {
      "cell_type": "markdown",
      "source": [
        "In practice in the package, a top-$k$ ranking can be sampled as follows: "
      ],
      "metadata": {}
    },
    {
      "cell_type": "code",
      "source": [
        "m = 15\n",
        "n = 10 \n",
        "k = 5\n",
        "phi = 0.9 \n",
        "sigma_0 = np.array(range(10))\n",
        "sigma = np.random.permutation(n)\n",
        "sample_top_k = mk.sample(m=m, n=n, k=k, phi=phi, s0=sigma_0)\n",
        "sample_top_k"
      ],
      "outputs": [
        {
          "output_type": "execute_result",
          "execution_count": 23,
          "data": {
            "text/plain": "array([[nan,  4.,  3., nan,  1., nan, nan,  2., nan,  0.],\n       [nan,  2.,  1., nan, nan,  0.,  4.,  3., nan, nan],\n       [nan,  4., nan,  2.,  1., nan, nan, nan,  3.,  0.],\n       [ 2.,  4., nan, nan, nan, nan,  3.,  0.,  1., nan],\n       [nan,  2., nan, nan,  1.,  4., nan, nan,  3.,  0.],\n       [ 1., nan,  4.,  3., nan,  2., nan,  0., nan, nan],\n       [ 4.,  0.,  1., nan,  2., nan, nan,  3., nan, nan],\n       [ 1., nan, nan, nan,  2., nan,  3.,  4., nan,  0.],\n       [ 0.,  2.,  3.,  4., nan, nan, nan,  1., nan, nan],\n       [nan,  3.,  4., nan,  0.,  1., nan, nan,  2., nan],\n       [nan,  0.,  2.,  3.,  4., nan, nan,  1., nan, nan],\n       [ 2.,  0., nan, nan, nan, nan,  4.,  3.,  1., nan],\n       [ 0.,  1.,  2., nan, nan, nan,  3., nan,  4., nan],\n       [ 3.,  2.,  0.,  4., nan, nan, nan,  1., nan, nan],\n       [nan,  3.,  0., nan,  4., nan,  1., nan,  2., nan]])"
          },
          "metadata": {}
        }
      ],
      "execution_count": 23,
      "metadata": {
        "execution": {
          "iopub.execute_input": "2021-04-29T08:07:32.331Z",
          "iopub.status.busy": "2021-04-29T08:07:32.315Z",
          "iopub.status.idle": "2021-04-29T08:07:32.367Z",
          "shell.execute_reply": "2021-04-29T08:07:33.399Z"
        }
      }
    },
    {
      "cell_type": "markdown",
      "source": [
        "**Distance** In order to compare top-$k$ rankings, it is possible to use an extension of the classical Kendall's-$\\tau$ denoted as $p$-parametrized Kendall's-$\\tau$ distance (Fagin et al., 2003). \n",
        "\n",
        "In practice we can use it, chosing the $p$ parameter in $[0,1]$, as follows: "
      ],
      "metadata": {}
    },
    {
      "cell_type": "code",
      "source": [
        "mk.p_distance(sample_top_k[0], sample_top_k[1], k=5, p=0)"
      ],
      "outputs": [
        {
          "output_type": "execute_result",
          "execution_count": 37,
          "data": {
            "text/plain": "15"
          },
          "metadata": {}
        }
      ],
      "execution_count": 37,
      "metadata": {
        "execution": {
          "iopub.execute_input": "2021-04-29T08:28:27.007Z",
          "iopub.status.busy": "2021-04-29T08:28:26.985Z",
          "iopub.status.idle": "2021-04-29T08:28:27.047Z",
          "shell.execute_reply": "2021-04-29T08:28:27.067Z"
        }
      }
    },
    {
      "cell_type": "code",
      "source": [
        "mk.p_distance(sample_top_k[0], sample_top_k[1], k=5, p=1)"
      ],
      "outputs": [
        {
          "output_type": "execute_result",
          "execution_count": 25,
          "data": {
            "text/plain": "17"
          },
          "metadata": {}
        }
      ],
      "execution_count": 25,
      "metadata": {
        "execution": {
          "iopub.execute_input": "2021-04-29T08:07:32.485Z",
          "iopub.status.busy": "2021-04-29T08:07:32.469Z",
          "iopub.status.idle": "2021-04-29T08:07:32.520Z",
          "shell.execute_reply": "2021-04-29T08:07:33.416Z"
        }
      }
    },
    {
      "cell_type": "markdown",
      "source": [
        "**Expected distance** The expected value of Kendall's-$\\tau$ distance under the MM is given by: \n",
        "$$\\mathbb{E}[D] = \\frac{k \\cdot \\exp(-\\theta)}{1 - \\exp(-\\theta)} - \\sum_{j=n-k+1}^n\\frac{j \\cdot \\exp(-j \\theta)}{1 - \\exp(-j \\theta)}$$"
      ],
      "metadata": {}
    },
    {
      "cell_type": "code",
      "source": [
        "expected_dist = mk.expected_dist_top_k(n,k,theta_mm)\n",
        "expected_dist"
      ],
      "outputs": [
        {
          "output_type": "execute_result",
          "execution_count": 26,
          "data": {
            "text/plain": "4.732931959531709"
          },
          "metadata": {}
        }
      ],
      "execution_count": 26,
      "metadata": {
        "execution": {
          "iopub.execute_input": "2021-04-29T08:07:32.563Z",
          "iopub.status.busy": "2021-04-29T08:07:32.546Z",
          "iopub.status.idle": "2021-04-29T08:07:32.597Z",
          "shell.execute_reply": "2021-04-29T08:07:33.424Z"
        }
      }
    },
    {
      "cell_type": "markdown",
      "source": [
        "**Variance** The variance of Kendall's-$\\tau$ distance under the MM can be expressed as follows: \n",
        "$$\\mathbb{V}[D] = \\dfrac{ k \\cdot \\exp(-\\theta) }{ (1 - \\exp(-\\theta))^2 } - \\sum_{j=n-k+1}^n \\dfrac{ j^2\\exp(-j \\theta) }{ (1 - \\exp(-j \\theta))^2 }$$"
      ],
      "metadata": {}
    },
    {
      "cell_type": "code",
      "source": [
        "variance_dist = mk.variance_dist_top_k(n,k,theta_mm)\n",
        "variance_dist"
      ],
      "outputs": [
        {
          "output_type": "execute_result",
          "execution_count": 27,
          "data": {
            "text/plain": "8.391580684957216"
          },
          "metadata": {}
        }
      ],
      "execution_count": 27,
      "metadata": {
        "execution": {
          "iopub.execute_input": "2021-04-29T08:07:32.640Z",
          "iopub.status.busy": "2021-04-29T08:07:32.623Z",
          "iopub.status.idle": "2021-04-29T08:07:32.675Z",
          "shell.execute_reply": "2021-04-29T08:07:33.432Z"
        }
      }
    },
    {
      "cell_type": "markdown",
      "source": [
        "# Generalized Mallows Model (GMM) for complete permutations"
      ],
      "metadata": {}
    },
    {
      "cell_type": "markdown",
      "source": [
        "The Generalized Mallows Model (GMM) is an extension of the Mallows Model, for which there are $n-1$ dispersion parameters $\\theta_j$ ($1 \\le j < n$), each affecting a particular position of the permutation.   \n",
        "Formally, the GMM under Kendall's-$\\tau$ distance is expressed as follows: \n",
        "\n",
        "$$p(\\sigma)=\\dfrac{\\exp(\\sum_{j=1}^{n-1}-\\theta_j V_j(\\sigma\\sigma_0^{-1}))}{\\psi(\\theta)}$$\n",
        "where $\\psi(\\theta) = \\prod_{j=1}^{n-1} \\psi_j(\\theta_j) = \\prod_{j=1}^{n-1} \\frac{1-\\exp(-\\theta_j(n-j+1))}{1 - \\exp(-\\theta_j)}$"
      ],
      "metadata": {}
    },
    {
      "cell_type": "code",
      "source": [
        "def prob_GMM(sigma, sigma_0, theta):\n",
        "    \n",
        "    n = len(sigma)\n",
        "        \n",
        "    sigma_0_inv = mk.inverse(sigma_0)\n",
        "    \n",
        "    V = mk.ranking_to_v(mk.compose(sigma, sigma_0_inv))\n",
        "    \n",
        "    psi = np.prod(np.array([(1 - np.exp(( - n + j ) * theta[j]))/(1 - np.exp(-theta[j])) for j in range(n-1)]))\n",
        "    \n",
        "    return np.exp( np.sum ( [ -theta[j] * V[j] for j in range(n-1) ] ) ) / psi \n",
        "    \n",
        "    \n",
        "sigma = np.array([3,1,2,0,4])\n",
        "sigma_0 = np.array(range(5))\n",
        "theta = [0.5,0.2,0.6,0.3]\n",
        "\n",
        "print(prob_GMM(sigma, sigma_0, theta))"
      ],
      "outputs": [
        {
          "output_type": "stream",
          "name": "stdout",
          "text": [
            "0.00439275005307042\n"
          ]
        }
      ],
      "execution_count": 28,
      "metadata": {
        "execution": {
          "iopub.execute_input": "2021-04-29T08:07:32.718Z",
          "iopub.status.busy": "2021-04-29T08:07:32.700Z",
          "iopub.status.idle": "2021-04-29T08:07:32.753Z",
          "shell.execute_reply": "2021-04-29T08:07:33.440Z"
        }
      }
    },
    {
      "cell_type": "markdown",
      "source": [
        "**Sampling** It is also possible to sample the Generalized Mallows Models (GMM), using the same process as for the MM only with a change in the probability of $V_j$ as follows:\n",
        "\n",
        "$$p(V_j(\\sigma\\sigma_0^{-1}) = r) = \\frac{\\exp(-\\theta r)}{\\psi_j(\\theta)}, \\; \\forall r \\in {0, \\dotsc, n-j}$$\n",
        "\n",
        "In the package it is quite similar as for the classical Mallows Models, only that the dispersion parameter will be given as a list. "
      ],
      "metadata": {}
    },
    {
      "cell_type": "code",
      "source": [
        "m = 4000\n",
        "n = 5\n",
        "theta_gmm = [0.5,0.2,0.6,0.3]\n",
        "identity = np.array(range(n))\n",
        "sample_gmm = np.array(mk.sample(m,theta = theta_gmm))"
      ],
      "outputs": [],
      "execution_count": 29,
      "metadata": {
        "execution": {
          "iopub.execute_input": "2021-04-29T08:07:32.794Z",
          "iopub.status.busy": "2021-04-29T08:07:32.777Z",
          "iopub.status.idle": "2021-04-29T08:07:32.819Z",
          "shell.execute_reply": "2021-04-29T08:07:33.450Z"
        }
      }
    },
    {
      "cell_type": "markdown",
      "source": [
        "The expected value of each term $V_j(\\sigma)$, where $\\sigma$ is a random Mallows permutation, is expressed as follows:\n",
        "$$ \\mathbb{E}[V_j] = \\frac{\\exp(-\\theta_j)}{1 - \\exp(-\\theta_j)} - \\frac{(n-j+1)\\exp(-\\theta_j(n-j+1))}{1 - \\exp(-\\theta_j(n-j+1))}, \\;\\forall j \\in \\{1, \\dotsc, n-1\\} $$\n",
        "And the values are computed as follows:"
      ],
      "metadata": {}
    },
    {
      "cell_type": "code",
      "source": [
        "expected_v_gmm = mk.expected_v(n, theta_gmm)\n",
        "print(expected_v_gmm)"
      ],
      "outputs": [
        {
          "output_type": "stream",
          "name": "stdout",
          "text": [
            "[1.09436663 1.25279068 0.62226834 0.42555748]\n"
          ]
        }
      ],
      "execution_count": 30,
      "metadata": {
        "execution": {
          "iopub.execute_input": "2021-04-29T08:07:32.859Z",
          "iopub.status.busy": "2021-04-29T08:07:32.843Z",
          "iopub.status.idle": "2021-04-29T08:07:32.891Z",
          "shell.execute_reply": "2021-04-29T08:07:33.459Z"
        }
      }
    },
    {
      "cell_type": "markdown",
      "source": [
        "The expected value of Kendall's-$\\tau$ distance under the GMM is then given by: \n",
        "$$\\mathbb{E}[D] = \\sum_{j=1}^{n-1} \\mathbb{E}[V_j]$$"
      ],
      "metadata": {}
    },
    {
      "cell_type": "code",
      "source": [
        "expected_dist_gmm = np.sum(expected_v_gmm)\n",
        "print(expected_dist_gmm)"
      ],
      "outputs": [
        {
          "output_type": "stream",
          "name": "stdout",
          "text": [
            "3.394983134634349\n"
          ]
        }
      ],
      "execution_count": 31,
      "metadata": {
        "execution": {
          "iopub.execute_input": "2021-04-29T08:07:32.933Z",
          "iopub.status.busy": "2021-04-29T08:07:32.916Z",
          "iopub.status.idle": "2021-04-29T08:07:32.967Z",
          "shell.execute_reply": "2021-04-29T08:07:33.467Z"
        }
      }
    },
    {
      "cell_type": "markdown",
      "source": [
        "The variance of each term $V_j(\\sigma)$ under the GMM can be expressed as follows: \n",
        "$$\\mathbb{V}[V_j] = \\dfrac{ \\exp(-\\theta_j) }{ (1 - \\exp(-\\theta_j))^2 } - \\sum_{j=1}^n \\frac{ (n-j+1)^2 \\exp(-(n-j+1) \\theta_j) }{ (1 - \\exp(-(n-j+1) \\theta_j))^2 }, \\;\\forall j \\in \\{1, \\dotsc, n-1\\} $$"
      ],
      "metadata": {}
    },
    {
      "cell_type": "code",
      "source": [
        "variance_v_gmm = mk.variance_v(n, theta_gmm)\n",
        "print(variance_v_gmm)"
      ],
      "outputs": [
        {
          "output_type": "stream",
          "name": "stdout",
          "text": [
            "[1.48213789 1.20855956 0.56066479 0.24445831]\n"
          ]
        }
      ],
      "execution_count": 32,
      "metadata": {
        "execution": {
          "iopub.execute_input": "2021-04-29T08:07:33.010Z",
          "iopub.status.busy": "2021-04-29T08:07:32.993Z",
          "iopub.status.idle": "2021-04-29T08:07:33.043Z",
          "shell.execute_reply": "2021-04-29T08:07:33.475Z"
        }
      }
    },
    {
      "cell_type": "markdown",
      "source": [
        "The expected value of Kendall's-$\\tau$ distance under the GMM is then given by: \n",
        "$$\\mathbb{V}[D] = \\sum_{j=1}^{n-1} \\mathbb{V}[V_j]$$"
      ],
      "metadata": {}
    },
    {
      "cell_type": "code",
      "source": [
        "variance_dist_gmm = np.sum(variance_v_gmm)\n",
        "print(variance_dist_gmm)"
      ],
      "outputs": [
        {
          "output_type": "stream",
          "name": "stdout",
          "text": [
            "3.495820543795291\n"
          ]
        }
      ],
      "execution_count": 33,
      "metadata": {
        "execution": {
          "iopub.execute_input": "2021-04-29T08:07:33.088Z",
          "iopub.status.busy": "2021-04-29T08:07:33.069Z",
          "iopub.status.idle": "2021-04-29T08:07:33.121Z",
          "shell.execute_reply": "2021-04-29T08:07:33.483Z"
        }
      }
    },
    {
      "cell_type": "markdown",
      "source": [
        "**Learning** An approximation to the MLE for $\\theta$ and $\\sigma_0$ given a sample of i.i.d Mallows permutations is as follows: "
      ],
      "metadata": {}
    },
    {
      "cell_type": "code",
      "source": [
        "sigma_borda, theta_gmm_mle = mk.fit_gmm(sample_gmm)\n",
        "print(sigma_borda)\n",
        "print(theta_gmm_mle)"
      ],
      "outputs": [
        {
          "output_type": "stream",
          "name": "stdout",
          "text": [
            "[0 2 1 3 4]\n",
            "[0.5015981834573541, 0.1831177482166899, 0.604497321711229, 0.3227733922630482]\n"
          ]
        }
      ],
      "execution_count": 34,
      "metadata": {
        "execution": {
          "iopub.execute_input": "2021-04-29T08:07:33.161Z",
          "iopub.status.busy": "2021-04-29T08:07:33.145Z",
          "iopub.status.idle": "2021-04-29T08:07:33.195Z",
          "shell.execute_reply": "2021-04-29T08:07:33.492Z"
        }
      }
    },
    {
      "cell_type": "code",
      "source": [],
      "outputs": [],
      "execution_count": null,
      "metadata": {}
    }
  ],
  "metadata": {
    "kernelspec": {
      "display_name": "Python 3",
      "language": "python",
      "name": "python3"
    },
    "language_info": {
      "name": "python",
      "version": "3.7.5",
      "mimetype": "text/x-python",
      "codemirror_mode": {
        "name": "ipython",
        "version": 3
      },
      "pygments_lexer": "ipython3",
      "nbconvert_exporter": "python",
      "file_extension": ".py"
    },
    "nteract": {
      "version": "0.28.0"
    }
  },
  "nbformat": 4,
  "nbformat_minor": 4
}