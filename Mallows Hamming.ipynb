{
 "cells": [
  {
   "cell_type": "markdown",
   "id": "defensive-seller",
   "metadata": {},
   "source": [
    "# Mallows Hamming\n",
    "### A python package for Mallows Model using Hamming distance with complete rankings \n",
    "&emsp;&emsp; **By Ahmed Boujaada, Fabien Collas and Ekhine Irurozki**\n",
    "\n",
    "We present methods for working with the Mallows Model (MM), the best-known distribution for permutations. Before continuing reading, please refer to the preliminaries in [link](https://github.com/ekhiru/top-k-mallows/blob/master/Permutations.ipynb)."
   ]
  },
  {
   "cell_type": "code",
   "execution_count": 3,
   "id": "intensive-mirror",
   "metadata": {},
   "outputs": [],
   "source": [
    "import numpy as np\n",
    "import mallows_hamming as mh"
   ]
  },
  {
   "cell_type": "markdown",
   "id": "distributed-simpson",
   "metadata": {},
   "source": [
    "## Hamming Distance"
   ]
  },
  {
   "cell_type": "code",
   "execution_count": 4,
   "id": "guided-superintendent",
   "metadata": {},
   "outputs": [],
   "source": [
    "perm1= np.array([1,2,0,3,4])\n",
    "perm2= np.array([0,2,1,3,4])"
   ]
  },
  {
   "cell_type": "code",
   "execution_count": 5,
   "id": "hollow-indicator",
   "metadata": {},
   "outputs": [
    {
     "data": {
      "text/plain": [
       "2"
      ]
     },
     "execution_count": 5,
     "metadata": {},
     "output_type": "execute_result"
    }
   ],
   "source": [
    "mh.distance(perm1, perm2)"
   ]
  },
  {
   "cell_type": "markdown",
   "id": "cathedral-egyptian",
   "metadata": {},
   "source": [
    "Let $\\sigma$ and $\\pi$ be two permutations. Hamming distance between $\\sigma$ and $\\pi$ is the number of positions at which their associated ranks are different. It's given by\n",
    "\n",
    "$$d(\\sigma, \\pi) = \\sum^n_{i=1} \\mathbb{I}[\\sigma(i)\\neq\\pi(i)]$$\n",
    "\n",
    "where $\\mathbb{I[\\cdot]}$ represents the Indicator function and $n$ is the length of permutations. Hamming distance between two permutations can be computed as follows: "
   ]
  },
  {
   "cell_type": "code",
   "execution_count": 6,
   "id": "rough-default",
   "metadata": {},
   "outputs": [],
   "source": [
    "perm1 = np.array([3, 1, 2, 0, 4])\n",
    "perm2 = np.array([3, 1, 4, 2, 0])"
   ]
  },
  {
   "cell_type": "code",
   "execution_count": 7,
   "id": "passing-ballet",
   "metadata": {},
   "outputs": [
    {
     "data": {
      "text/plain": [
       "3"
      ]
     },
     "execution_count": 7,
     "metadata": {},
     "output_type": "execute_result"
    }
   ],
   "source": [
    "mh.distance(perm1, perm2)"
   ]
  },
  {
   "cell_type": "markdown",
   "id": "developmental-stroke",
   "metadata": {},
   "source": [
    "If only one permutation is given as input, it will be assumed that the second permutation is the identity permutation, $e = (1, 2, \\dotsc, n)$."
   ]
  },
  {
   "cell_type": "code",
   "execution_count": 8,
   "id": "divided-philadelphia",
   "metadata": {},
   "outputs": [
    {
     "data": {
      "text/plain": [
       "2"
      ]
     },
     "execution_count": 8,
     "metadata": {},
     "output_type": "execute_result"
    }
   ],
   "source": [
    "mh.distance(perm1)"
   ]
  },
  {
   "cell_type": "markdown",
   "id": "numerous-mistake",
   "metadata": {},
   "source": [
    "The maximum value of Hamming distance between two permutations of length $n$ is $n$ itself. "
   ]
  },
  {
   "cell_type": "code",
   "execution_count": 9,
   "id": "graphic-pricing",
   "metadata": {},
   "outputs": [],
   "source": [
    "n=5"
   ]
  },
  {
   "cell_type": "code",
   "execution_count": 10,
   "id": "unlimited-biography",
   "metadata": {},
   "outputs": [
    {
     "data": {
      "text/plain": [
       "5"
      ]
     },
     "execution_count": 10,
     "metadata": {},
     "output_type": "execute_result"
    }
   ],
   "source": [
    "mh.dist_at_uniform(n)"
   ]
  },
  {
   "cell_type": "markdown",
   "id": "liable-mauritius",
   "metadata": {},
   "source": [
    "This package also allows to sample a permutation at a given Hamming distance where all the possible permutations have the same probability of being generated."
   ]
  },
  {
   "cell_type": "code",
   "execution_count": 11,
   "id": "pacific-austria",
   "metadata": {},
   "outputs": [],
   "source": [
    "dist=2"
   ]
  },
  {
   "cell_type": "code",
   "execution_count": 12,
   "id": "changing-collection",
   "metadata": {},
   "outputs": [
    {
     "data": {
      "text/plain": [
       "array([4., 1., 2., 0., 3.])"
      ]
     },
     "execution_count": 12,
     "metadata": {},
     "output_type": "execute_result"
    }
   ],
   "source": [
    "mh.sample_at_dist(n,dist, sigma0=[4,1,2,3,0])"
   ]
  },
  {
   "cell_type": "markdown",
   "id": "compound-armor",
   "metadata": {},
   "source": [
    "*Remark:* Hamming distance between permutations is defined in $\\mathbb{N}^{[0,n]}\\backslash\\{1\\}$."
   ]
  },
  {
   "cell_type": "markdown",
   "id": "hired-state",
   "metadata": {},
   "source": [
    "## Mallows Model (MM) for complete permutations"
   ]
  },
  {
   "cell_type": "markdown",
   "id": "hourly-focus",
   "metadata": {},
   "source": [
    "The probability mass function of a Mallows Model with central permutation $\\sigma_0$ and dispersion parameter $\\theta$ can be computed using the following function:"
   ]
  },
  {
   "cell_type": "code",
   "execution_count": 13,
   "id": "coordinated-browser",
   "metadata": {},
   "outputs": [
    {
     "data": {
      "text/plain": [
       "0.010125860730934329"
      ]
     },
     "execution_count": 13,
     "metadata": {},
     "output_type": "execute_result"
    }
   ],
   "source": [
    "sigma = np.array([3,1,2,0,4])\n",
    "sigma_0 = np.array(range(5))\n",
    "theta = 0.1\n",
    "\n",
    "mh.prob(sigma, sigma_0, theta)"
   ]
  },
  {
   "cell_type": "markdown",
   "id": "twenty-arnold",
   "metadata": {},
   "source": [
    "**Sampling** This package includes a sampler based on the factorization of Hamming  distance. "
   ]
  },
  {
   "cell_type": "code",
   "execution_count": 14,
   "id": "geological-there",
   "metadata": {},
   "outputs": [
    {
     "data": {
      "text/plain": [
       "array([[1., 0., 2., 3., 4.],\n",
       "       [0., 1., 2., 3., 4.],\n",
       "       [0., 1., 4., 3., 2.],\n",
       "       [0., 2., 1., 3., 4.]])"
      ]
     },
     "execution_count": 14,
     "metadata": {},
     "output_type": "execute_result"
    }
   ],
   "source": [
    "mh.sample(m=4,n=5,theta=1.5)"
   ]
  },
  {
   "cell_type": "markdown",
   "id": "naval-rover",
   "metadata": {},
   "source": [
    "Note that in the package, the sampling functions generates the samples considering $\\sigma_0 = e$, identity permutation by default. But any other central permutation can be given as a parameter.  \n",
    "In practice, we can draw a sample from a MM as follows:"
   ]
  },
  {
   "cell_type": "code",
   "execution_count": 16,
   "id": "potential-sheffield",
   "metadata": {},
   "outputs": [
    {
     "data": {
      "text/plain": [
       "array([[4., 3., 0., 1., 2.],\n",
       "       [4., 1., 3., 0., 2.],\n",
       "       [2., 0., 3., 1., 4.],\n",
       "       [2., 0., 3., 1., 4.]])"
      ]
     },
     "execution_count": 16,
     "metadata": {},
     "output_type": "execute_result"
    }
   ],
   "source": [
    "mh.sample(m=4, n=5, theta=0.1, s0=np.array([4,3,2,1,0]))"
   ]
  },
  {
   "cell_type": "markdown",
   "id": "useful-spring",
   "metadata": {},
   "source": [
    "In this package, we can specify also the parameter `phi` instead of `theta`. This functionality holds for most functions. The sampling, for example, is done then as follows:"
   ]
  },
  {
   "cell_type": "code",
   "execution_count": 17,
   "id": "analyzed-layout",
   "metadata": {},
   "outputs": [
    {
     "data": {
      "text/plain": [
       "array([[0., 1., 2., 3., 4.],\n",
       "       [3., 1., 2., 0., 4.],\n",
       "       [2., 1., 0., 3., 4.],\n",
       "       [2., 0., 1., 3., 4.]])"
      ]
     },
     "execution_count": 17,
     "metadata": {},
     "output_type": "execute_result"
    }
   ],
   "source": [
    "mh.sample(m=4,n=5,phi=.5)"
   ]
  },
  {
   "cell_type": "markdown",
   "id": "initial-costa",
   "metadata": {},
   "source": [
    "**Expected distance** The expected value of Hamming distance under the MM is given by: \n",
    "$$\\mathbb{E}[D] = \\frac{n \\cdot \\exp(-\\theta)}{1 - \\exp(-\\theta)} - \\sum_{j=1}^n\\frac{j \\cdot \\exp(-j \\theta)}{1 - \\exp(-j \\theta)}$$"
   ]
  },
  {
   "cell_type": "code",
   "execution_count": 14,
   "id": "headed-discharge",
   "metadata": {},
   "outputs": [
    {
     "data": {
      "text/plain": [
       "2.9927710045244083"
      ]
     },
     "execution_count": 14,
     "metadata": {},
     "output_type": "execute_result"
    }
   ],
   "source": [
    "theta_mm = 0.7\n",
    "expected_dist = mh.expected_dist_mm(n, theta_mm)\n",
    "expected_dist"
   ]
  },
  {
   "cell_type": "markdown",
   "id": "sporting-breakdown",
   "metadata": {},
   "source": [
    "**Learning** Then Hungarian algorithm allows to approximate the central permutation:  "
   ]
  },
  {
   "cell_type": "code",
   "execution_count": 15,
   "id": "linear-range",
   "metadata": {},
   "outputs": [],
   "source": [
    "sample_mm = mh.sample(m=40,n=5,phi=.3, s0=[3,2,1,0,4])"
   ]
  },
  {
   "cell_type": "code",
   "execution_count": 16,
   "id": "acute-passing",
   "metadata": {},
   "outputs": [
    {
     "data": {
      "text/plain": [
       "array([3, 2, 1, 0, 4])"
      ]
     },
     "execution_count": 16,
     "metadata": {},
     "output_type": "execute_result"
    }
   ],
   "source": [
    "mh.median(sample_mm)"
   ]
  }
 ],
 "metadata": {
  "kernelspec": {
   "display_name": "Python 3",
   "language": "python",
   "name": "python3"
  },
  "language_info": {
   "codemirror_mode": {
    "name": "ipython",
    "version": 3
   },
   "file_extension": ".py",
   "mimetype": "text/x-python",
   "name": "python",
   "nbconvert_exporter": "python",
   "pygments_lexer": "ipython3",
   "version": "3.7.6"
  }
 },
 "nbformat": 4,
 "nbformat_minor": 5
}
